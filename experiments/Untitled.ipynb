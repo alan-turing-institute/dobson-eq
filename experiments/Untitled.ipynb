{
 "cells": [
  {
   "cell_type": "code",
   "execution_count": 3,
   "id": "8d3b4b63-0975-4b8b-bca2-4eb03eac20c4",
   "metadata": {},
   "outputs": [],
   "source": [
    "import pandas as pd\n",
    "import numpy as np\n"
   ]
  },
  {
   "cell_type": "code",
   "execution_count": 4,
   "id": "3241483e-143b-4066-afd1-58666b66267a",
   "metadata": {},
   "outputs": [],
   "source": [
    "import matplotlib.pyplot as plt"
   ]
  },
  {
   "cell_type": "code",
   "execution_count": 6,
   "id": "039fe6b7-3fa2-4186-bfb6-d14fdf8d8073",
   "metadata": {},
   "outputs": [],
   "source": [
    "# test-train split\n",
    "from sktime.forecasting.model_selection import temporal_train_test_split\n",
    "\n",
    "# # plotter\n",
    "from sktime.utils.plotting import plot_series\n",
    "\n",
    "# # forecasting horizon\n",
    "from sktime.forecasting.base import ForecastingHorizon \n",
    "\n",
    "# # performanc metric \n",
    "from sktime.performance_metrics.forecasting import mean_absolute_percentage_error\n",
    "\n",
    "# # FORECASTERS\n",
    "\n",
    "# # list of available forecasters\n",
    "from sktime.registry import all_estimators\n",
    "\n",
    "from sktime.forecasting.naive import NaiveForecaster\n",
    "# from sktime.forecasting.theta import ThetaForecaster\n",
    "from sktime.forecasting.ets import AutoETS\n",
    "\n",
    "\n",
    "# from sktime.forecasting.arima import ARIMA\n",
    "# from sktime.forecasting.arima import AutoARIMA\n",
    "\n",
    "from sktime.forecasting.fbprophet import Prophet"
   ]
  },
  {
   "cell_type": "code",
   "execution_count": 7,
   "id": "c091880a-efc5-4331-b9b1-50469576bb35",
   "metadata": {},
   "outputs": [],
   "source": [
    "from sktime.datasets import load_airline"
   ]
  },
  {
   "cell_type": "code",
   "execution_count": 8,
   "id": "b2c4bb36-d843-442d-8af9-7421be97dbef",
   "metadata": {},
   "outputs": [],
   "source": [
    "from sktime.forecasting.naive import NaiveForecaster"
   ]
  },
  {
   "cell_type": "code",
   "execution_count": 9,
   "id": "26a0b3f2-d2bc-4d72-aee7-c359b01c8dc5",
   "metadata": {},
   "outputs": [],
   "source": [
    "y = load_airline()\n",
    "forecaster = NaiveForecaster(strategy=\"drift\")"
   ]
  },
  {
   "cell_type": "code",
   "execution_count": 10,
   "id": "79c52160-79a3-4bef-a9c3-0b5abbe45d44",
   "metadata": {},
   "outputs": [],
   "source": [
    "forecaster.fit(y)\n",
    "\n",
    "y_pred = forecaster.predict(fh=[1,2,3])"
   ]
  },
  {
   "cell_type": "code",
   "execution_count": 11,
   "id": "9f475a5d-859f-4704-97d2-8c98c58e58b5",
   "metadata": {},
   "outputs": [
    {
     "data": {
      "text/plain": [
       "1961-01    434.237762\n",
       "1961-02    436.475524\n",
       "1961-03    438.713287\n",
       "Freq: M, Name: Number of airline passengers, dtype: float64"
      ]
     },
     "execution_count": 11,
     "metadata": {},
     "output_type": "execute_result"
    }
   ],
   "source": [
    "y_pred"
   ]
  },
  {
   "cell_type": "code",
   "execution_count": null,
   "id": "0e9b9bd2-a4b8-4b5e-a743-1e6febebff2f",
   "metadata": {},
   "outputs": [],
   "source": []
  }
 ],
 "metadata": {
  "kernelspec": {
   "display_name": "Python 3 (ipykernel)",
   "language": "python",
   "name": "python3"
  },
  "language_info": {
   "codemirror_mode": {
    "name": "ipython",
    "version": 3
   },
   "file_extension": ".py",
   "mimetype": "text/x-python",
   "name": "python",
   "nbconvert_exporter": "python",
   "pygments_lexer": "ipython3",
   "version": "3.8.13"
  }
 },
 "nbformat": 4,
 "nbformat_minor": 5
}
