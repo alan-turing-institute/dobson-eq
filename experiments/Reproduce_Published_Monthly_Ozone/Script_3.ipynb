{
 "cells": [
  {
   "cell_type": "markdown",
   "id": "49aeb005-db20-48ab-837c-9f7910a181a2",
   "metadata": {},
   "source": [
    "# Intro\n",
    "\n",
    "Work with January 2020 data. Instanteneous ozone values are here: \n",
    "https://legacy.bas.ac.uk/met/jds/ozone/data/ZXDATA19M.DAT\n",
    "\n",
    "1. Match `mu` values to Jon's computation -- **Done**\n",
    "2. Update constants to those for Jan 2020, sent by Jon\n",
    "3. Match ozone values\n",
    "\n"
   ]
  },
  {
   "cell_type": "code",
   "execution_count": 1,
   "id": "8e19beb4-ea4f-4350-9f6c-b7d2a0dd3b70",
   "metadata": {},
   "outputs": [],
   "source": [
    "import matplotlib.pyplot as plt\n",
    "import numpy as onp\n",
    "import pandas as pd\n",
    "from datetime import datetime as dt\n",
    "import numpy as np\n",
    "\n",
    "from tqdm.auto import trange, tqdm\n",
    "\n",
    "from astropy.time import Time\n",
    "from astropy.coordinates import EarthLocation, get_sun, AltAz\n",
    "import astropy.units as u\n",
    "\n",
    "import autodobson"
   ]
  },
  {
   "cell_type": "code",
   "execution_count": 2,
   "id": "bc57d14c-88f7-44a6-bcba-9a0c4e8134df",
   "metadata": {},
   "outputs": [],
   "source": [
    "def get_zenith(station, time):\n",
    "\n",
    "        \"\"\"\n",
    "        Use astropy to obtain sun zenith angle at time, and station location\n",
    "        \"\"\"\n",
    "\n",
    "        t = Time(time)\n",
    "        l = EarthLocation(lat = station.lat * u.deg, \n",
    "                          lon = station.lon * u.deg, \n",
    "                          height = station.elevation * u.m)\n",
    "        s = get_sun(t)\n",
    "        s = s.transform_to(AltAz(obstime = t, location = l))\n",
    "        z = s.zen.radian\n",
    "        return z\n",
    "    \n",
    "    \n",
    "def get_mu(station, zenith):\n",
    "\n",
    "        \"\"\"\n",
    "        Calculate mu value, using station and sun information.\n",
    "        \"\"\"\n",
    "\n",
    "        R   = station.radius\n",
    "        r   = station.elevation\n",
    "        h   = station.ozone_height\n",
    "        SZA = zenith\n",
    "        mu = (R + h) / np.sqrt(np.square(R + h) \n",
    "                               - np.square(R + r) * np.square(np.sin(SZA)))\n",
    "        return mu"
   ]
  },
  {
   "cell_type": "markdown",
   "id": "8dfbc57b-b4e0-4bce-8a3b-f361d9c806ec",
   "metadata": {},
   "source": [
    "# Load test data"
   ]
  },
  {
   "cell_type": "code",
   "execution_count": 3,
   "id": "9edcd089-ff1b-409e-9e82-e763cc7bd039",
   "metadata": {},
   "outputs": [
    {
     "data": {
      "text/html": [
       "<div>\n",
       "<style scoped>\n",
       "    .dataframe tbody tr th:only-of-type {\n",
       "        vertical-align: middle;\n",
       "    }\n",
       "\n",
       "    .dataframe tbody tr th {\n",
       "        vertical-align: top;\n",
       "    }\n",
       "\n",
       "    .dataframe thead th {\n",
       "        text-align: right;\n",
       "    }\n",
       "</style>\n",
       "<table border=\"1\" class=\"dataframe\">\n",
       "  <thead>\n",
       "    <tr style=\"text-align: right;\">\n",
       "      <th></th>\n",
       "      <th>month</th>\n",
       "      <th>day</th>\n",
       "      <th>hour</th>\n",
       "      <th>minute</th>\n",
       "      <th>time_code</th>\n",
       "      <th>mu</th>\n",
       "      <th>z</th>\n",
       "      <th>obs_type</th>\n",
       "      <th>dobs_code</th>\n",
       "      <th>ozone</th>\n",
       "      <th>year</th>\n",
       "      <th>dt</th>\n",
       "    </tr>\n",
       "  </thead>\n",
       "  <tbody>\n",
       "    <tr>\n",
       "      <th>0</th>\n",
       "      <td>12</td>\n",
       "      <td>6</td>\n",
       "      <td>21</td>\n",
       "      <td>32</td>\n",
       "      <td>43804.397</td>\n",
       "      <td>3.732</td>\n",
       "      <td>75.12</td>\n",
       "      <td>6</td>\n",
       "      <td>22</td>\n",
       "      <td>322</td>\n",
       "      <td>2019</td>\n",
       "      <td>2019-12-06 21:32:00</td>\n",
       "    </tr>\n",
       "    <tr>\n",
       "      <th>1</th>\n",
       "      <td>12</td>\n",
       "      <td>6</td>\n",
       "      <td>21</td>\n",
       "      <td>32</td>\n",
       "      <td>43804.397</td>\n",
       "      <td>3.732</td>\n",
       "      <td>75.12</td>\n",
       "      <td>7</td>\n",
       "      <td>22</td>\n",
       "      <td>315</td>\n",
       "      <td>2019</td>\n",
       "      <td>2019-12-06 21:32:00</td>\n",
       "    </tr>\n",
       "    <tr>\n",
       "      <th>2</th>\n",
       "      <td>12</td>\n",
       "      <td>6</td>\n",
       "      <td>23</td>\n",
       "      <td>44</td>\n",
       "      <td>43804.489</td>\n",
       "      <td>5.436</td>\n",
       "      <td>80.41</td>\n",
       "      <td>6</td>\n",
       "      <td>25</td>\n",
       "      <td>316</td>\n",
       "      <td>2019</td>\n",
       "      <td>2019-12-06 23:44:00</td>\n",
       "    </tr>\n",
       "    <tr>\n",
       "      <th>3</th>\n",
       "      <td>12</td>\n",
       "      <td>7</td>\n",
       "      <td>9</td>\n",
       "      <td>15</td>\n",
       "      <td>43804.886</td>\n",
       "      <td>2.099</td>\n",
       "      <td>61.89</td>\n",
       "      <td>5</td>\n",
       "      <td>95</td>\n",
       "      <td>326</td>\n",
       "      <td>2019</td>\n",
       "      <td>2019-12-07 09:15:00</td>\n",
       "    </tr>\n",
       "    <tr>\n",
       "      <th>4</th>\n",
       "      <td>12</td>\n",
       "      <td>7</td>\n",
       "      <td>9</td>\n",
       "      <td>15</td>\n",
       "      <td>43804.886</td>\n",
       "      <td>2.099</td>\n",
       "      <td>61.89</td>\n",
       "      <td>6</td>\n",
       "      <td>95</td>\n",
       "      <td>331</td>\n",
       "      <td>2019</td>\n",
       "      <td>2019-12-07 09:15:00</td>\n",
       "    </tr>\n",
       "    <tr>\n",
       "      <th>...</th>\n",
       "      <td>...</td>\n",
       "      <td>...</td>\n",
       "      <td>...</td>\n",
       "      <td>...</td>\n",
       "      <td>...</td>\n",
       "      <td>...</td>\n",
       "      <td>...</td>\n",
       "      <td>...</td>\n",
       "      <td>...</td>\n",
       "      <td>...</td>\n",
       "      <td>...</td>\n",
       "      <td>...</td>\n",
       "    </tr>\n",
       "    <tr>\n",
       "      <th>975</th>\n",
       "      <td>2</td>\n",
       "      <td>1</td>\n",
       "      <td>9</td>\n",
       "      <td>22</td>\n",
       "      <td>43860.891</td>\n",
       "      <td>2.620</td>\n",
       "      <td>68.00</td>\n",
       "      <td>6</td>\n",
       "      <td>95</td>\n",
       "      <td>352</td>\n",
       "      <td>2020</td>\n",
       "      <td>2020-02-01 09:22:00</td>\n",
       "    </tr>\n",
       "    <tr>\n",
       "      <th>976</th>\n",
       "      <td>2</td>\n",
       "      <td>1</td>\n",
       "      <td>11</td>\n",
       "      <td>55</td>\n",
       "      <td>43860.997</td>\n",
       "      <td>2.012</td>\n",
       "      <td>60.52</td>\n",
       "      <td>5</td>\n",
       "      <td>95</td>\n",
       "      <td>302</td>\n",
       "      <td>2020</td>\n",
       "      <td>2020-02-01 11:55:00</td>\n",
       "    </tr>\n",
       "    <tr>\n",
       "      <th>977</th>\n",
       "      <td>2</td>\n",
       "      <td>1</td>\n",
       "      <td>11</td>\n",
       "      <td>55</td>\n",
       "      <td>43860.997</td>\n",
       "      <td>2.012</td>\n",
       "      <td>60.52</td>\n",
       "      <td>6</td>\n",
       "      <td>95</td>\n",
       "      <td>319</td>\n",
       "      <td>2020</td>\n",
       "      <td>2020-02-01 11:55:00</td>\n",
       "    </tr>\n",
       "    <tr>\n",
       "      <th>978</th>\n",
       "      <td>2</td>\n",
       "      <td>1</td>\n",
       "      <td>12</td>\n",
       "      <td>19</td>\n",
       "      <td>43861.014</td>\n",
       "      <td>1.968</td>\n",
       "      <td>59.77</td>\n",
       "      <td>5</td>\n",
       "      <td>95</td>\n",
       "      <td>299</td>\n",
       "      <td>2020</td>\n",
       "      <td>2020-02-01 12:19:00</td>\n",
       "    </tr>\n",
       "    <tr>\n",
       "      <th>979</th>\n",
       "      <td>2</td>\n",
       "      <td>1</td>\n",
       "      <td>12</td>\n",
       "      <td>19</td>\n",
       "      <td>43861.014</td>\n",
       "      <td>1.968</td>\n",
       "      <td>59.77</td>\n",
       "      <td>6</td>\n",
       "      <td>95</td>\n",
       "      <td>314</td>\n",
       "      <td>2020</td>\n",
       "      <td>2020-02-01 12:19:00</td>\n",
       "    </tr>\n",
       "  </tbody>\n",
       "</table>\n",
       "<p>980 rows × 12 columns</p>\n",
       "</div>"
      ],
      "text/plain": [
       "     month  day  hour  minute  time_code     mu      z  obs_type  dobs_code  \\\n",
       "0       12    6    21      32  43804.397  3.732  75.12         6         22   \n",
       "1       12    6    21      32  43804.397  3.732  75.12         7         22   \n",
       "2       12    6    23      44  43804.489  5.436  80.41         6         25   \n",
       "3       12    7     9      15  43804.886  2.099  61.89         5         95   \n",
       "4       12    7     9      15  43804.886  2.099  61.89         6         95   \n",
       "..     ...  ...   ...     ...        ...    ...    ...       ...        ...   \n",
       "975      2    1     9      22  43860.891  2.620  68.00         6         95   \n",
       "976      2    1    11      55  43860.997  2.012  60.52         5         95   \n",
       "977      2    1    11      55  43860.997  2.012  60.52         6         95   \n",
       "978      2    1    12      19  43861.014  1.968  59.77         5         95   \n",
       "979      2    1    12      19  43861.014  1.968  59.77         6         95   \n",
       "\n",
       "     ozone  year                  dt  \n",
       "0      322  2019 2019-12-06 21:32:00  \n",
       "1      315  2019 2019-12-06 21:32:00  \n",
       "2      316  2019 2019-12-06 23:44:00  \n",
       "3      326  2019 2019-12-07 09:15:00  \n",
       "4      331  2019 2019-12-07 09:15:00  \n",
       "..     ...   ...                 ...  \n",
       "975    352  2020 2020-02-01 09:22:00  \n",
       "976    302  2020 2020-02-01 11:55:00  \n",
       "977    319  2020 2020-02-01 11:55:00  \n",
       "978    299  2020 2020-02-01 12:19:00  \n",
       "979    314  2020 2020-02-01 12:19:00  \n",
       "\n",
       "[980 rows x 12 columns]"
      ]
     },
     "execution_count": 3,
     "metadata": {},
     "output_type": "execute_result"
    }
   ],
   "source": [
    "# Load Jon's calculation\n",
    "c=pd.read_csv('https://legacy.bas.ac.uk/met/jds/ozone/data/ZXDATA19M.DAT',\n",
    "             sep=\"\\s+\",\n",
    "              names = ['month', 'day', 'hour','minute', 'time_code', \n",
    "                       'mu', 'z', \n",
    "                       'obs_type', 'dobs_code', \n",
    "                       'ozone'])\n",
    "# add year column and date-time column\n",
    "c['year']=2019*(c['month']==12)+2020*(c['month']==1)+2020*(c['month']==2)\n",
    "c['dt']=pd.to_datetime(c[['year', 'month', 'day', 'hour', 'minute']])\n",
    "\n",
    "c"
   ]
  },
  {
   "cell_type": "markdown",
   "id": "3b8330d9-3de7-417c-9a56-b91c4578d03b",
   "metadata": {},
   "source": [
    "# Device constants"
   ]
  },
  {
   "cell_type": "code",
   "execution_count": 4,
   "id": "bb335f95-6c82-4fb1-bd82-2d48ffcf15dc",
   "metadata": {},
   "outputs": [],
   "source": [
    "# geographical data about station\n",
    "s = autodobson.Station(station = 'halley6a')"
   ]
  },
  {
   "cell_type": "markdown",
   "id": "75916e57-3f0e-48a1-8337-8bf284433ebc",
   "metadata": {},
   "source": [
    "# Compute `mu`"
   ]
  },
  {
   "cell_type": "code",
   "execution_count": 5,
   "id": "6b0702bd-b309-4314-bd23-94495db0bf49",
   "metadata": {},
   "outputs": [
    {
     "data": {
      "application/vnd.jupyter.widget-view+json": {
       "model_id": "7a02fdb5b27b405791fa3b35351571cb",
       "version_major": 2,
       "version_minor": 0
      },
      "text/plain": [
       "  0%|          | 0/980 [00:00<?, ?it/s]"
      ]
     },
     "metadata": {},
     "output_type": "display_data"
    }
   ],
   "source": [
    "z = []\n",
    "mu = []\n",
    "\n",
    "for i in trange(0, c.shape[0]):\n",
    "    T_i=pd.Timestamp.to_pydatetime(c['dt'][i])\n",
    "    z_i  = get_zenith(s, T_i)\n",
    "    mu_i = get_mu(s, z_i)\n",
    "    \n",
    "    z.append(z_i)\n",
    "    mu.append(mu_i)"
   ]
  },
  {
   "cell_type": "code",
   "execution_count": 6,
   "id": "2b0173b5-6fac-44b9-bd7b-54865951a481",
   "metadata": {},
   "outputs": [],
   "source": [
    "c['mu1'] = mu"
   ]
  },
  {
   "cell_type": "code",
   "execution_count": 7,
   "id": "0705b166-34f8-432b-bb14-d076f01781f1",
   "metadata": {},
   "outputs": [
    {
     "data": {
      "text/plain": [
       "<AxesSubplot:xlabel='dt'>"
      ]
     },
     "execution_count": 7,
     "metadata": {},
     "output_type": "execute_result"
    },
    {
     "data": {
      "image/png": "[encoded data removed]",
      "text/plain": [
       "<Figure size 432x288 with 1 Axes>"
      ]
     },
     "metadata": {
      "needs_background": "light"
     },
     "output_type": "display_data"
    }
   ],
   "source": [
    "ax = c.plot(x = 'dt', y = 'mu', style = 'or', label = 'published value')\n",
    "c.plot(x = 'dt', y = 'mu1', style = '.b', ax = ax, label = 'my value')"
   ]
  },
  {
   "cell_type": "markdown",
   "id": "cbd78793-c7c1-4084-a202-6ae9369bc021",
   "metadata": {},
   "source": [
    "# Compute DS ozone"
   ]
  },
  {
   "cell_type": "markdown",
   "id": "af27c0bb-521e-44bd-b35f-dbed13c4d760",
   "metadata": {},
   "source": [
    "## Load raw data"
   ]
  },
  {
   "cell_type": "code",
   "execution_count": 8,
   "id": "a8a0ba50-a344-4b10-b3df-66c200911646",
   "metadata": {},
   "outputs": [],
   "source": [
    "df = pd.read_csv('zozJan20.dat', \n",
    "            sep=\"\\s+\",\n",
    "            names = ['year', 'month', 'day', 'hour', 'minute', 'second', \n",
    "                     'ob', 'dob', 'A1', 'A2', 'C1', 'C2', 'D1', 'D2']) \n",
    "\n",
    "df['dt']=pd.to_datetime(df[['year', 'month', 'day', 'hour', 'minute', 'second']])\n",
    "\n",
    "# direct sun\n",
    "ds = df[df['ob']==90].reset_index(drop = True)\n",
    "\n",
    "# umkehr\n",
    "um = df[df['ob']==95].reset_index(drop = True)\n",
    "\n",
    "# number of ds timesteps\n",
    "N_ds = ds.shape[0]"
   ]
  },
  {
   "cell_type": "markdown",
   "id": "080c9e0e-d057-4b3f-b01c-1d1c5d387c9e",
   "metadata": {},
   "source": [
    "## Calibration constants\n"
   ]
  },
  {
   "cell_type": "code",
   "execution_count": 9,
   "id": "ddfcb1a2-8d3c-43ac-a8c2-449130ae02a6",
   "metadata": {},
   "outputs": [],
   "source": [
    "# calibration constants for specific Dobson photometre\n",
    "cal = autodobson.Calibration('031E')"
   ]
  },
  {
   "cell_type": "code",
   "execution_count": 10,
   "id": "cd946fa7-7d60-4044-a798-7e5115b2470f",
   "metadata": {},
   "outputs": [],
   "source": [
    "# manually read constants from file\n",
    "man_const = np.fromfile('DN031E19.DAT', sep=\" \", count = 19)"
   ]
  },
  {
   "cell_type": "code",
   "execution_count": 11,
   "id": "e5657114-6c7d-4540-911d-3bbb6214f1d4",
   "metadata": {},
   "outputs": [],
   "source": [
    "new_cal = {}\n",
    "keys = list(cal.annual_constants.keys())\n",
    "for i in range(19):\n",
    "    new_cal[keys[i]] = man_const[i]"
   ]
  },
  {
   "cell_type": "code",
   "execution_count": 12,
   "id": "a6a3e09f-3e33-49ca-a1a1-4ef8c45683e2",
   "metadata": {},
   "outputs": [],
   "source": [
    "# override constants in s\n",
    "for key in new_cal.keys():\n",
    "    cal.annual_constants[key] = new_cal[key]"
   ]
  },
  {
   "cell_type": "markdown",
   "id": "c1386787-bd5b-44da-8836-92d4d2f7828e",
   "metadata": {},
   "source": [
    "## Compute `mu` and ozone for DS "
   ]
  },
  {
   "cell_type": "code",
   "execution_count": 13,
   "id": "687ebfee-fe7c-4f53-bcee-2cc8ccea262d",
   "metadata": {},
   "outputs": [],
   "source": [
    "# recompute time, z and mu for DS observations\n",
    "T = []\n",
    "z = []\n",
    "mu = []\n",
    "for i in range(N_ds):        \n",
    "    T_i = pd.Timestamp.to_pydatetime(ds['dt'][i])\n",
    "    z_i  = get_zenith(s, T_i)\n",
    "    mu_i = get_mu(s, z_i)\n",
    "\n",
    "\n",
    "    T.append(T_i)\n",
    "    z.append(z_i)\n",
    "    mu.append(mu_i)\n",
    "    \n",
    "mu = np.array(mu)\n",
    "z = np.array(z)"
   ]
  },
  {
   "cell_type": "code",
   "execution_count": 15,
   "id": "ec175608-c52e-496f-908e-8b51f2c4e738",
   "metadata": {},
   "outputs": [
    {
     "data": {
      "application/vnd.jupyter.widget-view+json": {
       "model_id": "7f8cd461f1444c84bfea6b669a8c05c8",
       "version_major": 2,
       "version_minor": 0
      },
      "text/plain": [
       "  0%|          | 0/3 [00:00<?, ?it/s]"
      ]
     },
     "metadata": {},
     "output_type": "display_data"
    }
   ],
   "source": [
    "# compute N0, N1 for every wavelength\n",
    "d = {}\n",
    "for w in tqdm(['A', 'C', 'D']):\n",
    "    d[w]={}\n",
    "    d[w]['N0'] = []\n",
    "    d[w]['N1'] = []\n",
    "\n",
    "    for i in range(N_ds):\n",
    "\n",
    "        angle = ds[w+'1'][i]/10 # because wavelength is on that order\n",
    "        inc = int(np.floor(angle / 10))\n",
    "        rn = 'R-N_'+w\n",
    "        lo = 'Lo'+w\n",
    "\n",
    "        N0 = (cal.instrument_constants[rn][inc] +\n",
    "             (angle / 10 - inc) *\n",
    "                 (cal.instrument_constants[rn][inc + 1] -\n",
    "                  cal.instrument_constants[rn][inc]))\n",
    "\n",
    "        N1 = N0 + cal.annual_constants[lo]\n",
    "\n",
    "        d[w]['N0'].append(N0)\n",
    "        d[w]['N1'].append(N1)\n",
    "        \n",
    "    d[w]['N0']=np.array(d[w]['N0'])\n",
    "    d[w]['N1']=np.array(d[w]['N1'])"
   ]
  },
  {
   "cell_type": "code",
   "execution_count": 17,
   "id": "22a98ea7-8be7-4c77-9918-da6879b8886c",
   "metadata": {},
   "outputs": [
    {
     "data": {
      "text/plain": [
       "dict_keys(['A', 'C', 'D'])"
      ]
     },
     "execution_count": 17,
     "metadata": {},
     "output_type": "execute_result"
    }
   ],
   "source": [
    "d.keys()"
   ]
  },
  {
   "cell_type": "code",
   "execution_count": 19,
   "id": "b8d5f11a-55b5-4a86-a6ae-ff29e499e427",
   "metadata": {},
   "outputs": [
    {
     "data": {
      "text/plain": [
       "{'N0': array([1.38763, 1.0977 , 1.0886 , 1.10953, 2.09619, 1.12136, 1.08951,\n",
       "        1.38181, 1.15076, 1.49816, 1.1894 , 1.1434 , 1.38569, 1.14248,\n",
       "        1.18296, 1.45602, 1.3498 , 1.23674, 1.1986 , 1.15536, 1.14524,\n",
       "        1.1894 , 1.42368, 1.81197, 1.10862, 1.18388, 1.51105, 1.11772,\n",
       "        1.16364, 1.4521 , 1.48052, 1.65026, 1.27246, 1.43348, 1.66262,\n",
       "        1.30442, 1.63378, 1.43544]),\n",
       " 'N1': array([1.34763, 1.0577 , 1.0486 , 1.06953, 2.05619, 1.08136, 1.04951,\n",
       "        1.34181, 1.11076, 1.45816, 1.1494 , 1.1034 , 1.34569, 1.10248,\n",
       "        1.14296, 1.41602, 1.3098 , 1.19674, 1.1586 , 1.11536, 1.10524,\n",
       "        1.1494 , 1.38368, 1.77197, 1.06862, 1.14388, 1.47105, 1.07772,\n",
       "        1.12364, 1.4121 , 1.44052, 1.61026, 1.23246, 1.39348, 1.62262,\n",
       "        1.26442, 1.59378, 1.39544])}"
      ]
     },
     "execution_count": 19,
     "metadata": {},
     "output_type": "execute_result"
    }
   ],
   "source": [
    "d['A']"
   ]
  },
  {
   "cell_type": "code",
   "execution_count": 20,
   "id": "825b9fc5-d269-418d-b281-07d481d36cf5",
   "metadata": {},
   "outputs": [],
   "source": [
    "# AD expression: applies foer mu<2.7 \n",
    "oz_AD  = ((d['A']['N1'] - d['D']['N1'])/mu/cal.instrument_constants['ADcoeff']\\\n",
    "          - cal.instrument_constants['ADbeta']) * 1000\n",
    "oz_AD  = np.round(oz_AD)\n",
    "oz_AD[mu>2.7]=None"
   ]
  },
  {
   "cell_type": "code",
   "execution_count": 21,
   "id": "38f429d5-fd09-4583-b83b-a6fb57ae6c8f",
   "metadata": {},
   "outputs": [],
   "source": [
    "# AD expression: applies foer mu<4. somehow\n",
    "oz_CD  = ((d['C']['N1'] - d['D']['N1'])/mu/cal.instrument_constants['CDcoeff']\\\n",
    "       - cal.instrument_constants['CDbeta']) * 1000 +\\\n",
    "       cal.annual_constants['CDDS_offset']\n",
    "oz_CD  = np.round(oz_CD)\n",
    "oz_CD[mu>4.]=None"
   ]
  },
  {
   "cell_type": "code",
   "execution_count": 28,
   "id": "7a7d4242-0802-4832-b189-5142e6c8655e",
   "metadata": {},
   "outputs": [],
   "source": [
    "ds['AD1'] = oz_AD\n",
    "ds['CD1'] = oz_CD\n",
    "ds['z1'] = z\n",
    "ds['mu1'] = mu"
   ]
  },
  {
   "cell_type": "code",
   "execution_count": 30,
   "id": "7a135544-a2b2-47f1-9e0d-819ec72b3190",
   "metadata": {},
   "outputs": [
    {
     "data": {
      "text/plain": [
       "<AxesSubplot:xlabel='dt'>"
      ]
     },
     "execution_count": 30,
     "metadata": {},
     "output_type": "execute_result"
    },
    {
     "data": {
      "image/png": "[encoded data removed]",
      "text/plain": [
       "<Figure size 432x288 with 1 Axes>"
      ]
     },
     "metadata": {
      "needs_background": "light"
     },
     "output_type": "display_data"
    }
   ],
   "source": [
    "ax = c.query('obs_type == 1 and month == 1')\\\n",
    "    .plot(x = 'dt', y = 'ozone', label = 'published ozone ADDS', style = '.-')\n",
    "ds.plot(x = 'dt', y = 'AD1', ax = ax, label = 'Peter: ADDS', style = '.-')"
   ]
  },
  {
   "cell_type": "markdown",
   "id": "a9eb9b5c-c8a4-468d-b251-bfc280c452c2",
   "metadata": {},
   "source": [
    "# Emailed to Jon"
   ]
  },
  {
   "cell_type": "code",
   "execution_count": 104,
   "id": "29f522e7-814c-4c77-a504-333d9a0bf92b",
   "metadata": {},
   "outputs": [
    {
     "data": {
      "text/plain": [
       "<AxesSubplot:xlabel='dt'>"
      ]
     },
     "execution_count": 104,
     "metadata": {},
     "output_type": "execute_result"
    },
    {
     "data": {
      "image/png": "[encoded data removed]",
      "text/plain": [
       "<Figure size 432x288 with 1 Axes>"
      ]
     },
     "metadata": {
      "needs_background": "light"
     },
     "output_type": "display_data"
    }
   ],
   "source": [
    "ax = c.query('obs_type == 1 and month == 1')\\\n",
    "    .plot(x = 'dt', y = 'ozone', label = 'published ozone ADDS', style = '.-')\n",
    "ds.plot(x = 'dt', y = 'AD', ax = ax, label = 'Peter: old ADDS', style = '--')\n",
    "ds.plot(x = 'dt', y = 'AD1', ax = ax, label = 'Peter: new ADDS', style = '.-')\n"
   ]
  },
  {
   "cell_type": "code",
   "execution_count": null,
   "id": "c6c78598-2d79-4145-bffb-b4a6a61e878a",
   "metadata": {},
   "outputs": [],
   "source": []
  }
 ],
 "metadata": {
  "kernelspec": {
   "display_name": "Python 3 (ipykernel)",
   "language": "python",
   "name": "python3"
  },
  "language_info": {
   "codemirror_mode": {
    "name": "ipython",
    "version": 3
   },
   "file_extension": ".py",
   "mimetype": "text/x-python",
   "name": "python",
   "nbconvert_exporter": "python",
   "pygments_lexer": "ipython3",
   "version": "3.8.10"
  }
 },
 "nbformat": 4,
 "nbformat_minor": 5
}
