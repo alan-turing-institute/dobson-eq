{
 "cells": [
  {
   "cell_type": "markdown",
   "id": "c96ddde1-9b08-47c6-9f9d-609b0ace290e",
   "metadata": {},
   "source": [
    "Here we process the data and extract yearly features\n",
    "\n",
    "# Intro\n",
    "\n",
    "When learning the zenith equations, we will need to interpolate between the observations of Ozone. For this we must develop a regression model for the Ozone time-series. The problem is set up as follows:\n",
    "1. We have observations of Oz at discrete time stamps\n",
    "2. We have a new time stamp which is not among the observations, but is within the observed interval\n",
    "3. Using apprpriate technique, find the value of Oz at that time stamp and assess unerctainty.\n",
    "\n",
    "**Note:**\n",
    "1. We will ignore geo-location for now and treat the entire time series of Ozone as measured at the same location\n",
    "2. We will focus on OZCD\n",
    "\n",
    "\n"
   ]
  },
  {
   "cell_type": "code",
   "execution_count": 1,
   "id": "3a869f4a-9359-4bfd-bfa5-9754c0de1fc3",
   "metadata": {},
   "outputs": [],
   "source": [
    "import pandas as pd\n",
    "import numpy as np\n",
    "import matplotlib.pyplot as plt\n",
    "# from scipy import interpolate\n",
    "from pathlib import Path\n",
    "from pprint import pprint\n",
    "from copy import deepcopy\n",
    "import operator\n",
    "\n",
    "import dill\n",
    "\n",
    "import seaborn as sns\n",
    "\n",
    "from pprint import pprint, pp\n",
    "\n",
    "from sklearn.neural_network import MLPRegressor\n",
    "from sklearn.linear_model import LinearRegression\n",
    "from sklearn.preprocessing import (\n",
    "    StandardScaler,\n",
    "    PolynomialFeatures,\n",
    ")\n",
    "from sklearn.pipeline import make_pipeline\n",
    "from sklearn.dummy import DummyRegressor\n",
    "\n",
    "import seaborn as sns\n",
    "from tqdm.notebook import tqdm\n",
    "\n",
    "import itertools\n",
    "import functools\n",
    "\n",
    "\n",
    "# test-train split\n",
    "# from sktime.forecasting.model_selection import temporal_train_test_split\n",
    "\n",
    "# # plotter\n",
    "# from sktime.utils.plotting import plot_series\n",
    "\n",
    "# # forecasting horizon\n",
    "# from sktime.forecasting.base import ForecastingHorizon \n",
    "\n",
    "# # performanc metric \n",
    "# from sktime.performance_metrics.forecasting import mean_absolute_percentage_error\n",
    "\n",
    "# # FORECASTERS\n",
    "\n",
    "# # list of available forecasters\n",
    "# from sktime.registry import all_estimators\n",
    "\n",
    "# from sktime.forecasting.naive import NaiveForecaster\n",
    "# from sktime.forecasting.theta import ThetaForecaster\n",
    "# from sktime.forecasting.ets import AutoETS\n",
    "\n",
    "\n",
    "# from sktime.forecasting.arima import ARIMA\n",
    "# from sktime.forecasting.arima import AutoARIMA\n",
    "\n",
    "# from sktime.forecasting.fbprophet import Prophet"
   ]
  },
  {
   "cell_type": "markdown",
   "id": "a22b6a0b-4e96-4d75-aa03-5678cbf668da",
   "metadata": {},
   "source": [
    "# Load and view data"
   ]
  },
  {
   "cell_type": "code",
   "execution_count": 4,
   "id": "ab3e721e-bca2-4de9-8e36-9ffc7c0e7a59",
   "metadata": {},
   "outputs": [],
   "source": [
    "# load pickle\n",
    "df_direct = pd.read_pickle(\"df_direct.pkl\")\n",
    "df_zenith = pd.read_pickle(\"df_zenith.pkl\")"
   ]
  },
  {
   "cell_type": "code",
   "execution_count": 5,
   "id": "6bbb882f-43dc-4346-8efa-c0146a33be7c",
   "metadata": {},
   "outputs": [],
   "source": [
    "# load csv\n",
    "df_direct.to_csv('Data/df_direct.csv')\n",
    "df_zenith.to_csv('Data/df_zenith.csv')"
   ]
  },
  {
   "cell_type": "code",
   "execution_count": 6,
   "id": "c38cabd4-1970-4463-a740-7ac877c9751c",
   "metadata": {},
   "outputs": [],
   "source": [
    "df = pd.DataFrame(index = df_direct['dt'], columns = ['OZCD'])\n",
    "df = df_direct.drop(columns = 'Unnamed: 0').set_index('dt')\n",
    "df.index.name = None\n",
    "df['OZCD'] = df['OZCD'].astype(float)"
   ]
  },
  {
   "cell_type": "code",
   "execution_count": null,
   "id": "411a1a5d-bfe3-412e-a9c0-297f9e5a962e",
   "metadata": {},
   "outputs": [],
   "source": []
  },
  {
   "cell_type": "code",
   "execution_count": 7,
   "id": "3e9ca17b-6cc6-420c-8429-6c1898136e1e",
   "metadata": {},
   "outputs": [],
   "source": [
    "# the following needs some investigation: 2 rows are somehow being flagged as duplicates\n",
    "# for now, just chuck them\n",
    "\n",
    "df = df['OZCD'][~df.index.duplicated()]"
   ]
  },
  {
   "cell_type": "markdown",
   "id": "6efc62a6-2074-44d2-86c7-f458834dd373",
   "metadata": {},
   "source": [
    "Plot without tie gaps between observations\n",
    "\n",
    "**Note: This is a useless and misleading plot, because we clearly have missing seasonal observations in 2018-2020, which are jammed together**"
   ]
  },
  {
   "cell_type": "code",
   "execution_count": 8,
   "id": "6b3b65c5-86f2-43e2-b9ca-673ba5995bf9",
   "metadata": {},
   "outputs": [],
   "source": [
    "# plot_series(df);"
   ]
  },
  {
   "cell_type": "markdown",
   "id": "aff799f8-70c8-4134-958c-ba64cc1c1b41",
   "metadata": {},
   "source": [
    "Plot on actual time arrow\n",
    "\n",
    "**This is revealing of trends**"
   ]
  },
  {
   "cell_type": "code",
   "execution_count": 347,
   "id": "f4389b77-c4bc-4b44-9daa-5a816381dfeb",
   "metadata": {},
   "outputs": [
    {
     "data": {
      "text/plain": [
       "Text(0, 0.5, '${Ozone}_{CD}$')"
      ]
     },
     "execution_count": 347,
     "metadata": {},
     "output_type": "execute_result"
    }
   ],
   "source": [
    "%matplotlib qt\n",
    "ax = df_direct.plot('dt', 'OZCD', style = '.', markersize = 1);\n",
    "ax.set_xlabel('time')\n",
    "ax.set_ylabel('${Ozone}_{CD}$')"
   ]
  },
  {
   "cell_type": "markdown",
   "id": "b7a9c9bd-2c1f-4790-a3ca-9dd1593ccc30",
   "metadata": {},
   "source": [
    "## Seasonal features"
   ]
  },
  {
   "cell_type": "code",
   "execution_count": 11,
   "id": "3ec5c8ee-622e-4948-95ae-e683c6c1e876",
   "metadata": {},
   "outputs": [],
   "source": [
    "def create_features(df, label=None):\n",
    "    \"\"\"\n",
    "    Creates time series features from datetime index\n",
    "    \"\"\"\n",
    "    df['date'] = df.index\n",
    "    \n",
    "    \n",
    "    df['hour'] = df['date'].dt.hour\n",
    "    df['dayofweek'] = df['date'].dt.dayofweek\n",
    "    df['quarter'] = df['date'].dt.quarter\n",
    "    df['month'] = df['date'].dt.month\n",
    "    df['year'] = df['date'].dt.year\n",
    "    df['dayofyear'] = df['date'].dt.dayofyear\n",
    "    df['dayofmonth'] = df['date'].dt.day\n",
    "    df['weekofyear'] = df['date'].dt.isocalendar().week.astype('int64')\n",
    "    \n",
    "    X = df[['hour','dayofweek','quarter','month','year',\n",
    "           'dayofyear','dayofmonth','weekofyear']]\n",
    "    \n",
    "    # X = df[['dayofweek','2h',\n",
    "    #        'hour']]\n",
    "    \n",
    "    if label:\n",
    "        y = df[label]\n",
    "        return X, y\n",
    "    return X"
   ]
  },
  {
   "cell_type": "code",
   "execution_count": 12,
   "id": "c38059b5-c039-468d-a23c-1de9e531a650",
   "metadata": {},
   "outputs": [],
   "source": [
    "df = pd.DataFrame(index = df_direct['dt'], columns = ['OZCD'])\n",
    "df = df_direct.drop(columns = 'Unnamed: 0').set_index('dt')\n",
    "df.index.name = None\n",
    "df['OZCD'] = df['OZCD'].astype(float)\n",
    "df = df[~df.index.duplicated()]"
   ]
  },
  {
   "cell_type": "code",
   "execution_count": 13,
   "id": "93b44780-578c-4a29-a3cd-ce1651447404",
   "metadata": {},
   "outputs": [],
   "source": [
    "df, y = create_features(df, 'OZCD')"
   ]
  },
  {
   "cell_type": "code",
   "execution_count": 14,
   "id": "9fd2f540-2446-4607-8ef3-cb3c74e2d9c6",
   "metadata": {},
   "outputs": [],
   "source": [
    "df['x'] = y"
   ]
  },
  {
   "cell_type": "code",
   "execution_count": 15,
   "id": "16846ee2-7103-44ac-80b8-ffe65c32455a",
   "metadata": {},
   "outputs": [
    {
     "data": {
      "text/html": [
       "<div>\n",
       "<style scoped>\n",
       "    .dataframe tbody tr th:only-of-type {\n",
       "        vertical-align: middle;\n",
       "    }\n",
       "\n",
       "    .dataframe tbody tr th {\n",
       "        vertical-align: top;\n",
       "    }\n",
       "\n",
       "    .dataframe thead th {\n",
       "        text-align: right;\n",
       "    }\n",
       "</style>\n",
       "<table border=\"1\" class=\"dataframe\">\n",
       "  <thead>\n",
       "    <tr style=\"text-align: right;\">\n",
       "      <th></th>\n",
       "      <th>hour</th>\n",
       "      <th>dayofweek</th>\n",
       "      <th>quarter</th>\n",
       "      <th>month</th>\n",
       "      <th>year</th>\n",
       "      <th>dayofyear</th>\n",
       "      <th>dayofmonth</th>\n",
       "      <th>weekofyear</th>\n",
       "      <th>x</th>\n",
       "    </tr>\n",
       "  </thead>\n",
       "  <tbody>\n",
       "    <tr>\n",
       "      <th>2012-02-05 18:08:00</th>\n",
       "      <td>18</td>\n",
       "      <td>6</td>\n",
       "      <td>1</td>\n",
       "      <td>2</td>\n",
       "      <td>2012</td>\n",
       "      <td>36</td>\n",
       "      <td>5</td>\n",
       "      <td>5</td>\n",
       "      <td>248.0</td>\n",
       "    </tr>\n",
       "    <tr>\n",
       "      <th>2012-02-05 19:36:00</th>\n",
       "      <td>19</td>\n",
       "      <td>6</td>\n",
       "      <td>1</td>\n",
       "      <td>2</td>\n",
       "      <td>2012</td>\n",
       "      <td>36</td>\n",
       "      <td>5</td>\n",
       "      <td>5</td>\n",
       "      <td>254.0</td>\n",
       "    </tr>\n",
       "    <tr>\n",
       "      <th>2012-02-06 14:51:00</th>\n",
       "      <td>14</td>\n",
       "      <td>0</td>\n",
       "      <td>1</td>\n",
       "      <td>2</td>\n",
       "      <td>2012</td>\n",
       "      <td>37</td>\n",
       "      <td>6</td>\n",
       "      <td>6</td>\n",
       "      <td>238.0</td>\n",
       "    </tr>\n",
       "    <tr>\n",
       "      <th>2012-02-06 16:35:00</th>\n",
       "      <td>16</td>\n",
       "      <td>0</td>\n",
       "      <td>1</td>\n",
       "      <td>2</td>\n",
       "      <td>2012</td>\n",
       "      <td>37</td>\n",
       "      <td>6</td>\n",
       "      <td>6</td>\n",
       "      <td>242.0</td>\n",
       "    </tr>\n",
       "    <tr>\n",
       "      <th>2012-02-06 17:35:00</th>\n",
       "      <td>17</td>\n",
       "      <td>0</td>\n",
       "      <td>1</td>\n",
       "      <td>2</td>\n",
       "      <td>2012</td>\n",
       "      <td>37</td>\n",
       "      <td>6</td>\n",
       "      <td>6</td>\n",
       "      <td>245.0</td>\n",
       "    </tr>\n",
       "    <tr>\n",
       "      <th>...</th>\n",
       "      <td>...</td>\n",
       "      <td>...</td>\n",
       "      <td>...</td>\n",
       "      <td>...</td>\n",
       "      <td>...</td>\n",
       "      <td>...</td>\n",
       "      <td>...</td>\n",
       "      <td>...</td>\n",
       "      <td>...</td>\n",
       "    </tr>\n",
       "    <tr>\n",
       "      <th>2020-01-29 09:24:00</th>\n",
       "      <td>9</td>\n",
       "      <td>2</td>\n",
       "      <td>1</td>\n",
       "      <td>1</td>\n",
       "      <td>2020</td>\n",
       "      <td>29</td>\n",
       "      <td>29</td>\n",
       "      <td>5</td>\n",
       "      <td>311.0</td>\n",
       "    </tr>\n",
       "    <tr>\n",
       "      <th>2020-01-29 12:12:00</th>\n",
       "      <td>12</td>\n",
       "      <td>2</td>\n",
       "      <td>1</td>\n",
       "      <td>1</td>\n",
       "      <td>2020</td>\n",
       "      <td>29</td>\n",
       "      <td>29</td>\n",
       "      <td>5</td>\n",
       "      <td>295.0</td>\n",
       "    </tr>\n",
       "    <tr>\n",
       "      <th>2020-01-29 18:00:00</th>\n",
       "      <td>18</td>\n",
       "      <td>2</td>\n",
       "      <td>1</td>\n",
       "      <td>1</td>\n",
       "      <td>2020</td>\n",
       "      <td>29</td>\n",
       "      <td>29</td>\n",
       "      <td>5</td>\n",
       "      <td>299.0</td>\n",
       "    </tr>\n",
       "    <tr>\n",
       "      <th>2020-01-29 22:00:00</th>\n",
       "      <td>22</td>\n",
       "      <td>2</td>\n",
       "      <td>1</td>\n",
       "      <td>1</td>\n",
       "      <td>2020</td>\n",
       "      <td>29</td>\n",
       "      <td>29</td>\n",
       "      <td>5</td>\n",
       "      <td>281.0</td>\n",
       "    </tr>\n",
       "    <tr>\n",
       "      <th>2020-01-30 09:24:00</th>\n",
       "      <td>9</td>\n",
       "      <td>3</td>\n",
       "      <td>1</td>\n",
       "      <td>1</td>\n",
       "      <td>2020</td>\n",
       "      <td>30</td>\n",
       "      <td>30</td>\n",
       "      <td>5</td>\n",
       "      <td>286.0</td>\n",
       "    </tr>\n",
       "  </tbody>\n",
       "</table>\n",
       "<p>3388 rows × 9 columns</p>\n",
       "</div>"
      ],
      "text/plain": [
       "                     hour  dayofweek  quarter  month  year  dayofyear  \\\n",
       "2012-02-05 18:08:00    18          6        1      2  2012         36   \n",
       "2012-02-05 19:36:00    19          6        1      2  2012         36   \n",
       "2012-02-06 14:51:00    14          0        1      2  2012         37   \n",
       "2012-02-06 16:35:00    16          0        1      2  2012         37   \n",
       "2012-02-06 17:35:00    17          0        1      2  2012         37   \n",
       "...                   ...        ...      ...    ...   ...        ...   \n",
       "2020-01-29 09:24:00     9          2        1      1  2020         29   \n",
       "2020-01-29 12:12:00    12          2        1      1  2020         29   \n",
       "2020-01-29 18:00:00    18          2        1      1  2020         29   \n",
       "2020-01-29 22:00:00    22          2        1      1  2020         29   \n",
       "2020-01-30 09:24:00     9          3        1      1  2020         30   \n",
       "\n",
       "                     dayofmonth  weekofyear      x  \n",
       "2012-02-05 18:08:00           5           5  248.0  \n",
       "2012-02-05 19:36:00           5           5  254.0  \n",
       "2012-02-06 14:51:00           6           6  238.0  \n",
       "2012-02-06 16:35:00           6           6  242.0  \n",
       "2012-02-06 17:35:00           6           6  245.0  \n",
       "...                         ...         ...    ...  \n",
       "2020-01-29 09:24:00          29           5  311.0  \n",
       "2020-01-29 12:12:00          29           5  295.0  \n",
       "2020-01-29 18:00:00          29           5  299.0  \n",
       "2020-01-29 22:00:00          29           5  281.0  \n",
       "2020-01-30 09:24:00          30           5  286.0  \n",
       "\n",
       "[3388 rows x 9 columns]"
      ]
     },
     "execution_count": 15,
     "metadata": {},
     "output_type": "execute_result"
    }
   ],
   "source": [
    "df"
   ]
  },
  {
   "cell_type": "markdown",
   "id": "cc721ddd-0dc4-4229-9143-cb62b29f9eaa",
   "metadata": {},
   "source": [
    "The yearly features have high dispersion, because we don't have periodic measurements in later years"
   ]
  },
  {
   "cell_type": "code",
   "execution_count": 16,
   "id": "e5595715-d796-4769-89a9-a3cdbc293955",
   "metadata": {},
   "outputs": [
    {
     "data": {
      "text/plain": [
       "<AxesSubplot: xlabel='quarter', ylabel='x'>"
      ]
     },
     "execution_count": 16,
     "metadata": {},
     "output_type": "execute_result"
    },
    {
     "data": {
      "image/png": "[encoded data removed]",
      "text/plain": [
       "<Figure size 640x480 with 1 Axes>"
      ]
     },
     "metadata": {},
     "output_type": "display_data"
    }
   ],
   "source": [
    "sns.boxplot(data = df, x = 'quarter', y = 'x')"
   ]
  },
  {
   "cell_type": "markdown",
   "id": "207a382c-e75b-4ed0-bd47-ba14ea6f4e92",
   "metadata": {},
   "source": [
    "Monthly features look quite promising"
   ]
  },
  {
   "cell_type": "code",
   "execution_count": 17,
   "id": "44516071-1b52-4414-8596-b03f6780d161",
   "metadata": {},
   "outputs": [
    {
     "data": {
      "text/plain": [
       "<AxesSubplot: xlabel='month', ylabel='x'>"
      ]
     },
     "execution_count": 17,
     "metadata": {},
     "output_type": "execute_result"
    },
    {
     "data": {
      "image/png": "[encoded data removed]",
      "text/plain": [
       "<Figure size 640x480 with 1 Axes>"
      ]
     },
     "metadata": {},
     "output_type": "display_data"
    }
   ],
   "source": [
    "%matplotlib qt\n",
    "sns.boxplot(data = df, x = 'month', y = 'x')"
   ]
  },
  {
   "cell_type": "code",
   "execution_count": 353,
   "id": "1ae3eb1c-daca-4cd0-a08e-08d592ac91c2",
   "metadata": {},
   "outputs": [
    {
     "data": {
      "text/plain": [
       "<AxesSubplot: xlabel='month', ylabel='x'>"
      ]
     },
     "execution_count": 353,
     "metadata": {},
     "output_type": "execute_result"
    }
   ],
   "source": [
    "%matplotlib qt\n",
    "sns.boxplot(data = df, x = 'month', y = 'x')"
   ]
  },
  {
   "cell_type": "code",
   "execution_count": null,
   "id": "7e2d55da-acde-4727-b107-ad78f3f976ab",
   "metadata": {},
   "outputs": [],
   "source": []
  },
  {
   "cell_type": "markdown",
   "id": "06eaa0d3-d8c4-41f7-8691-c5d97e38cfcb",
   "metadata": {},
   "source": [
    "Weekly features have high dispesion"
   ]
  },
  {
   "cell_type": "code",
   "execution_count": 20,
   "id": "054dc1d0-c422-4e06-8a51-471cfdbce85b",
   "metadata": {},
   "outputs": [
    {
     "data": {
      "text/plain": [
       "<AxesSubplot: xlabel='weekofyear', ylabel='x'>"
      ]
     },
     "execution_count": 20,
     "metadata": {},
     "output_type": "execute_result"
    },
    {
     "data": {
      "image/png": "[encoded data removed]",
      "text/plain": [
       "<Figure size 640x480 with 1 Axes>"
      ]
     },
     "metadata": {},
     "output_type": "display_data"
    }
   ],
   "source": [
    "sns.boxplot(data = df, x = 'weekofyear', y = 'x')"
   ]
  },
  {
   "cell_type": "code",
   "execution_count": 216,
   "id": "674253fd-b19e-44b3-b755-7704316105a5",
   "metadata": {},
   "outputs": [
    {
     "data": {
      "text/plain": [
       "<AxesSubplot: xlabel='dayofyear', ylabel='x'>"
      ]
     },
     "execution_count": 216,
     "metadata": {},
     "output_type": "execute_result"
    }
   ],
   "source": [
    "sns.boxplot(data = df, x = 'dayofyear', y = 'x')"
   ]
  },
  {
   "cell_type": "code",
   "execution_count": 67,
   "id": "b450ef12-3b1f-4651-8611-689846b7fc82",
   "metadata": {},
   "outputs": [],
   "source": [
    "df.to_csv('df_seasonal.csv')"
   ]
  },
  {
   "cell_type": "markdown",
   "id": "05bb58fe-1336-4ac1-9a1d-865b8b9cb58b",
   "metadata": {},
   "source": [
    "# Rescale time arrow between 1st and last measurements\n",
    "\n",
    "To apply GP, we might want to rescale to a manageable interval, say [0, 1]. \n",
    "\n",
    "We have about 8 years of observations and time stamps have minute resolution, i.e. we have \n",
    "$$\\approx8\\cdot365\\cdot24\\cdot60=4204800\\approx 5\\cdot10^6$$\n",
    "minutes. And observations take place at some of those minutes. \n",
    "\n",
    "Let's cast in terms of minutes and rescale"
   ]
  },
  {
   "cell_type": "code",
   "execution_count": 21,
   "id": "63981f02-66a0-47d4-9bd8-fcaead53a8d1",
   "metadata": {},
   "outputs": [],
   "source": [
    "from datetime import datetime, date, time, timedelta\n",
    "from dateutil.relativedelta import relativedelta"
   ]
  },
  {
   "cell_type": "code",
   "execution_count": null,
   "id": "5552a3f6-9d24-460a-b74e-de7249143a39",
   "metadata": {},
   "outputs": [],
   "source": [
    "def roundTime(dt=None, roundTo=60):\n",
    "   \"\"\"Round a datetime object to any time lapse in seconds\n",
    "   dt : datetime.datetime object\n",
    "   roundTo : Closest number of seconds to round to, default 1 minute.\n",
    "   \"\"\"\n",
    "   seconds = (dt.replace(tzinfo=None) - dt.min).seconds\n",
    "   rounding = (seconds+roundTo/2) // roundTo * roundTo\n",
    "   return dt + timedelta(0,rounding-seconds,-dt.microsecond)\n",
    "\n",
    "# map from dt in [0,1] to date-time, where t0->0, dtN -- total number of mins\n",
    "dt2datetime = lambda dt, t0, dtN: roundTime(t0+timedelta(minutes = dt*dtN))\n",
    "\n",
    "# date-time to dt in [0,1], where t0->0, dtN -- total number of mins\n",
    "datetime2dt = lambda x, t0, dtN: (x-t0).total_seconds()/60./dtN"
   ]
  },
  {
   "cell_type": "code",
   "execution_count": 22,
   "id": "d13660ba-bf7d-4bb3-9fce-0a1a7161e854",
   "metadata": {},
   "outputs": [],
   "source": [
    "df = df\\\n",
    ".reset_index()\\\n",
    ".rename(columns = {'index':'t', 'OZCD':'x'})"
   ]
  },
  {
   "cell_type": "markdown",
   "id": "d29bf472-9a6b-4646-90eb-d43a7b45e784",
   "metadata": {},
   "source": [
    "## first measurement -> 0, last -> 1"
   ]
  },
  {
   "cell_type": "code",
   "execution_count": 180,
   "id": "4528144b-8095-4aed-b614-5f13fa28d32c",
   "metadata": {},
   "outputs": [
    {
     "data": {
      "text/plain": [
       "(datetime.datetime(2012, 2, 5, 18, 8), datetime.datetime(2020, 1, 30, 9, 24))"
      ]
     },
     "execution_count": 180,
     "metadata": {},
     "output_type": "execute_result"
    }
   ],
   "source": [
    "t0 = df['t'].iloc[0].to_pydatetime()\n",
    "tN = df['t'].iloc[-1].to_pydatetime()\n",
    "t0, tN"
   ]
  },
  {
   "cell_type": "code",
   "execution_count": 48,
   "id": "959516db-5588-4782-b4ed-a526b02f0fac",
   "metadata": {},
   "outputs": [
    {
     "data": {
      "text/plain": [
       "4198516.0"
      ]
     },
     "execution_count": 48,
     "metadata": {},
     "output_type": "execute_result"
    }
   ],
   "source": [
    "# Our time interval in minutes\n",
    "dtN = (tN-t0).total_seconds()/60.\n",
    "dtN"
   ]
  },
  {
   "cell_type": "code",
   "execution_count": 27,
   "id": "6359ffa2-538d-4526-8ae7-7f16e7f9541f",
   "metadata": {},
   "outputs": [],
   "source": [
    "# Linearly map astronomic time to [0,1]\n",
    "df['dt']=df['t'].apply(lambda x: (x.to_pydatetime()-t0).total_seconds()/60./dtN)"
   ]
  },
  {
   "cell_type": "markdown",
   "id": "27ba6b8b-a97d-4f3a-9887-486a3a7caff0",
   "metadata": {},
   "source": [
    "## Jan 1, 2012 -> 0, Jan 1, 2021 -> 1"
   ]
  },
  {
   "cell_type": "code",
   "execution_count": 205,
   "id": "cd520f7f-ada1-41b6-a164-decfbf5166ec",
   "metadata": {},
   "outputs": [],
   "source": [
    "ta = datetime(year = 2012, month = 1, day = 1)\n",
    "tb = datetime(year = 2021, month = 1, day = 1)\n",
    "dtNab = (tb-ta).total_seconds()/60\n",
    "df['dtab']=df['t'].apply(lambda x: (x.to_pydatetime()-ta).total_seconds()/60./dtNab)"
   ]
  },
  {
   "cell_type": "code",
   "execution_count": 206,
   "id": "d1138384-9559-43c9-b17b-451d353d221f",
   "metadata": {},
   "outputs": [
    {
     "data": {
      "text/html": [
       "<div>\n",
       "<style scoped>\n",
       "    .dataframe tbody tr th:only-of-type {\n",
       "        vertical-align: middle;\n",
       "    }\n",
       "\n",
       "    .dataframe tbody tr th {\n",
       "        vertical-align: top;\n",
       "    }\n",
       "\n",
       "    .dataframe thead th {\n",
       "        text-align: right;\n",
       "    }\n",
       "</style>\n",
       "<table border=\"1\" class=\"dataframe\">\n",
       "  <thead>\n",
       "    <tr style=\"text-align: right;\">\n",
       "      <th></th>\n",
       "      <th>t</th>\n",
       "      <th>hour</th>\n",
       "      <th>dayofweek</th>\n",
       "      <th>quarter</th>\n",
       "      <th>month</th>\n",
       "      <th>year</th>\n",
       "      <th>dayofyear</th>\n",
       "      <th>dayofmonth</th>\n",
       "      <th>weekofyear</th>\n",
       "      <th>x</th>\n",
       "      <th>dt</th>\n",
       "      <th>dtab</th>\n",
       "    </tr>\n",
       "  </thead>\n",
       "  <tbody>\n",
       "    <tr>\n",
       "      <th>0</th>\n",
       "      <td>2012-02-05 18:08:00</td>\n",
       "      <td>18</td>\n",
       "      <td>6</td>\n",
       "      <td>1</td>\n",
       "      <td>2</td>\n",
       "      <td>2012</td>\n",
       "      <td>36</td>\n",
       "      <td>5</td>\n",
       "      <td>5</td>\n",
       "      <td>248.0</td>\n",
       "      <td>0.000000</td>\n",
       "      <td>0.010875</td>\n",
       "    </tr>\n",
       "    <tr>\n",
       "      <th>1</th>\n",
       "      <td>2012-02-05 19:36:00</td>\n",
       "      <td>19</td>\n",
       "      <td>6</td>\n",
       "      <td>1</td>\n",
       "      <td>2</td>\n",
       "      <td>2012</td>\n",
       "      <td>36</td>\n",
       "      <td>5</td>\n",
       "      <td>5</td>\n",
       "      <td>254.0</td>\n",
       "      <td>0.000021</td>\n",
       "      <td>0.010893</td>\n",
       "    </tr>\n",
       "    <tr>\n",
       "      <th>2</th>\n",
       "      <td>2012-02-06 14:51:00</td>\n",
       "      <td>14</td>\n",
       "      <td>0</td>\n",
       "      <td>1</td>\n",
       "      <td>2</td>\n",
       "      <td>2012</td>\n",
       "      <td>37</td>\n",
       "      <td>6</td>\n",
       "      <td>6</td>\n",
       "      <td>238.0</td>\n",
       "      <td>0.000296</td>\n",
       "      <td>0.011137</td>\n",
       "    </tr>\n",
       "    <tr>\n",
       "      <th>3</th>\n",
       "      <td>2012-02-06 16:35:00</td>\n",
       "      <td>16</td>\n",
       "      <td>0</td>\n",
       "      <td>1</td>\n",
       "      <td>2</td>\n",
       "      <td>2012</td>\n",
       "      <td>37</td>\n",
       "      <td>6</td>\n",
       "      <td>6</td>\n",
       "      <td>242.0</td>\n",
       "      <td>0.000321</td>\n",
       "      <td>0.011159</td>\n",
       "    </tr>\n",
       "    <tr>\n",
       "      <th>4</th>\n",
       "      <td>2012-02-06 17:35:00</td>\n",
       "      <td>17</td>\n",
       "      <td>0</td>\n",
       "      <td>1</td>\n",
       "      <td>2</td>\n",
       "      <td>2012</td>\n",
       "      <td>37</td>\n",
       "      <td>6</td>\n",
       "      <td>6</td>\n",
       "      <td>245.0</td>\n",
       "      <td>0.000335</td>\n",
       "      <td>0.011172</td>\n",
       "    </tr>\n",
       "    <tr>\n",
       "      <th>...</th>\n",
       "      <td>...</td>\n",
       "      <td>...</td>\n",
       "      <td>...</td>\n",
       "      <td>...</td>\n",
       "      <td>...</td>\n",
       "      <td>...</td>\n",
       "      <td>...</td>\n",
       "      <td>...</td>\n",
       "      <td>...</td>\n",
       "      <td>...</td>\n",
       "      <td>...</td>\n",
       "      <td>...</td>\n",
       "    </tr>\n",
       "    <tr>\n",
       "      <th>3383</th>\n",
       "      <td>2020-01-29 09:24:00</td>\n",
       "      <td>9</td>\n",
       "      <td>2</td>\n",
       "      <td>1</td>\n",
       "      <td>1</td>\n",
       "      <td>2020</td>\n",
       "      <td>29</td>\n",
       "      <td>29</td>\n",
       "      <td>5</td>\n",
       "      <td>311.0</td>\n",
       "      <td>0.999657</td>\n",
       "      <td>0.897321</td>\n",
       "    </tr>\n",
       "    <tr>\n",
       "      <th>3384</th>\n",
       "      <td>2020-01-29 12:12:00</td>\n",
       "      <td>12</td>\n",
       "      <td>2</td>\n",
       "      <td>1</td>\n",
       "      <td>1</td>\n",
       "      <td>2020</td>\n",
       "      <td>29</td>\n",
       "      <td>29</td>\n",
       "      <td>5</td>\n",
       "      <td>295.0</td>\n",
       "      <td>0.999697</td>\n",
       "      <td>0.897357</td>\n",
       "    </tr>\n",
       "    <tr>\n",
       "      <th>3385</th>\n",
       "      <td>2020-01-29 18:00:00</td>\n",
       "      <td>18</td>\n",
       "      <td>2</td>\n",
       "      <td>1</td>\n",
       "      <td>1</td>\n",
       "      <td>2020</td>\n",
       "      <td>29</td>\n",
       "      <td>29</td>\n",
       "      <td>5</td>\n",
       "      <td>299.0</td>\n",
       "      <td>0.999780</td>\n",
       "      <td>0.897430</td>\n",
       "    </tr>\n",
       "    <tr>\n",
       "      <th>3386</th>\n",
       "      <td>2020-01-29 22:00:00</td>\n",
       "      <td>22</td>\n",
       "      <td>2</td>\n",
       "      <td>1</td>\n",
       "      <td>1</td>\n",
       "      <td>2020</td>\n",
       "      <td>29</td>\n",
       "      <td>29</td>\n",
       "      <td>5</td>\n",
       "      <td>281.0</td>\n",
       "      <td>0.999837</td>\n",
       "      <td>0.897481</td>\n",
       "    </tr>\n",
       "    <tr>\n",
       "      <th>3387</th>\n",
       "      <td>2020-01-30 09:24:00</td>\n",
       "      <td>9</td>\n",
       "      <td>3</td>\n",
       "      <td>1</td>\n",
       "      <td>1</td>\n",
       "      <td>2020</td>\n",
       "      <td>30</td>\n",
       "      <td>30</td>\n",
       "      <td>5</td>\n",
       "      <td>286.0</td>\n",
       "      <td>1.000000</td>\n",
       "      <td>0.897625</td>\n",
       "    </tr>\n",
       "  </tbody>\n",
       "</table>\n",
       "<p>3388 rows × 12 columns</p>\n",
       "</div>"
      ],
      "text/plain": [
       "                       t  hour  dayofweek  quarter  month  year  dayofyear  \\\n",
       "0    2012-02-05 18:08:00    18          6        1      2  2012         36   \n",
       "1    2012-02-05 19:36:00    19          6        1      2  2012         36   \n",
       "2    2012-02-06 14:51:00    14          0        1      2  2012         37   \n",
       "3    2012-02-06 16:35:00    16          0        1      2  2012         37   \n",
       "4    2012-02-06 17:35:00    17          0        1      2  2012         37   \n",
       "...                  ...   ...        ...      ...    ...   ...        ...   \n",
       "3383 2020-01-29 09:24:00     9          2        1      1  2020         29   \n",
       "3384 2020-01-29 12:12:00    12          2        1      1  2020         29   \n",
       "3385 2020-01-29 18:00:00    18          2        1      1  2020         29   \n",
       "3386 2020-01-29 22:00:00    22          2        1      1  2020         29   \n",
       "3387 2020-01-30 09:24:00     9          3        1      1  2020         30   \n",
       "\n",
       "      dayofmonth  weekofyear      x        dt      dtab  \n",
       "0              5           5  248.0  0.000000  0.010875  \n",
       "1              5           5  254.0  0.000021  0.010893  \n",
       "2              6           6  238.0  0.000296  0.011137  \n",
       "3              6           6  242.0  0.000321  0.011159  \n",
       "4              6           6  245.0  0.000335  0.011172  \n",
       "...          ...         ...    ...       ...       ...  \n",
       "3383          29           5  311.0  0.999657  0.897321  \n",
       "3384          29           5  295.0  0.999697  0.897357  \n",
       "3385          29           5  299.0  0.999780  0.897430  \n",
       "3386          29           5  281.0  0.999837  0.897481  \n",
       "3387          30           5  286.0  1.000000  0.897625  \n",
       "\n",
       "[3388 rows x 12 columns]"
      ]
     },
     "execution_count": 206,
     "metadata": {},
     "output_type": "execute_result"
    }
   ],
   "source": [
    "df"
   ]
  },
  {
   "cell_type": "markdown",
   "id": "cd72146c-1496-452b-b81c-70863351d377",
   "metadata": {},
   "source": [
    "## Calendar features for [Jan 1, 2012, Jan 1, 2021] -> [0, 1]\n",
    "\n",
    "By observing the figure, we can see that we can have the following feautures:\n",
    "1. Yearly, i.e. 52-week\n",
    "2. winter 6-months\n",
    "3. summer 6-months\n",
    "4. every 3-months\n",
    "5. first trimester of each and last trimester of each year\n",
    "\n",
    "The data seems to fall perfectly into the following three features\n",
    "1. 52-week year\n",
    "2. first yearly trimester\n",
    "3. last yearly trimester\n",
    "\n"
   ]
  },
  {
   "cell_type": "code",
   "execution_count": 286,
   "id": "406e44b7-b860-4423-a298-d78c00b8a731",
   "metadata": {},
   "outputs": [],
   "source": [
    "# for x in [0,1], the sub-interval feature is x_f, given below. \n",
    "# it will be almost periodic if a good feature is selected\n",
    "interval_feature = lambda x, interval: x/interval-(x//interval)"
   ]
  },
  {
   "cell_type": "code",
   "execution_count": 283,
   "id": "4a30e79e-5e20-404f-8daa-4e627cc7484b",
   "metadata": {},
   "outputs": [],
   "source": [
    "# constant intervals of dt in [0,1], corresponding to astronomical day, week, etc\n",
    "\n",
    "dt_min = 1./dtNab\n",
    "dt_day = dt_min*60*24\n",
    "dt_week = dt_day*7\n",
    "\n",
    "# these are constant-interval features\n",
    "# they will not correspond to calendar exactly!\n",
    "dt_month = dt_week*4\n",
    "dt_year = dt_week*52\n",
    "\n",
    "dt_trimester = dt_year/3.\n",
    "dt_quarter = dt_year/4."
   ]
  },
  {
   "cell_type": "code",
   "execution_count": 344,
   "id": "24914199-084b-453a-998c-9be34f494953",
   "metadata": {},
   "outputs": [
    {
     "data": {
      "text/plain": [
       "364"
      ]
     },
     "execution_count": 344,
     "metadata": {},
     "output_type": "execute_result"
    }
   ],
   "source": [
    "52*7"
   ]
  },
  {
   "cell_type": "code",
   "execution_count": 284,
   "id": "d6c300f0-692c-485a-817c-c8319135d151",
   "metadata": {},
   "outputs": [],
   "source": [
    "# exact astronomical intervals: months, years, 3-months\n",
    "dt_astro_months = [datetime2dt(ta+relativedelta(months = i), ta, dtNab) for i in range(8*12+2)]\n",
    "dt_astro_years = [datetime2dt(ta+relativedelta(years = i), ta, dtNab) for i in range(10)]\n",
    "dt_astro_months = [datetime2dt(ta+relativedelta(months = 3*i), ta, dtNab) for i in range((9*12+3)//3)]"
   ]
  },
  {
   "cell_type": "code",
   "execution_count": 285,
   "id": "0b1babdb-caff-4206-a2e0-907a90f43bef",
   "metadata": {},
   "outputs": [
    {
     "data": {
      "text/plain": [
       "([0.11131386861313869,\n",
       "  0.11100973236009731,\n",
       "  0.11100973236009731,\n",
       "  0.11100973236009737,\n",
       "  0.11131386861313869,\n",
       "  0.11100973236009726,\n",
       "  0.11100973236009737,\n",
       "  0.11100973236009737,\n",
       "  0.11131386861313863],\n",
       " 0.11070559610705594)"
      ]
     },
     "execution_count": 285,
     "metadata": {},
     "output_type": "execute_result"
    }
   ],
   "source": [
    "[dt_astro_years[i]-dt_astro_years[i-1] for i in range(1, 10)], dt_year"
   ]
  },
  {
   "cell_type": "code",
   "execution_count": 357,
   "id": "4bf1bdd4-cb32-43be-972c-56d5d62fa2bb",
   "metadata": {},
   "outputs": [
    {
     "data": {
      "text/plain": [
       "Text(0, 0.5, '${Ozone}_{CD}$')"
      ]
     },
     "execution_count": 357,
     "metadata": {},
     "output_type": "execute_result"
    },
    {
     "data": {
      "image/png": "[encoded data removed]",
      "text/plain": [
       "<Figure size 2000x500 with 1 Axes>"
      ]
     },
     "metadata": {},
     "output_type": "display_data"
    }
   ],
   "source": [
    "%matplotlib inline\n",
    "\n",
    "fig, ax = plt.subplots(figsize = (20,5))\n",
    "\n",
    "# start on January 1, 2012\n",
    "dt_0 = datetime2dt(datetime(year = 2012, month = 1, day = 1), t0, dtN)\n",
    "\n",
    "p = df.plot('dtab', 'x', style = 'o', ms = 1, ax = ax)\n",
    "\n",
    "# astronomical years\n",
    "# for x in dt_astro_years:\n",
    "#     p.axvline(x, color = 'tab:red', linestyle = '-', linewidth = .5)\n",
    "\n",
    "# astronomical 3-months    \n",
    "# for x in dt_astro_months:\n",
    "#     p.axvline(x, color = 'tab:green', linestyle = '--', linewidth = .5)\n",
    "\n",
    "# 52-week years, starting at jan 1, 2012\n",
    "for x in np.arange(0, 1., dt_year):\n",
    "    p.axvline(x, color = 'black', linestyle = '-', linewidth = 1.2)\n",
    "\n",
    "# 52-week years, starting at jan 1, 2012\n",
    "# for x in np.arange(0, 1., dt_trimester):\n",
    "#     p.axvline(x, color = 'tab:green', linestyle = '--', linewidth = 1.)\n",
    "\n",
    "p.set_xticks(np.arange(0.,1.1,.05));\n",
    "\n",
    "p.set_xlabel('$t_1$')\n",
    "p.set_ylabel('${Ozone}_{CD}$')"
   ]
  },
  {
   "cell_type": "code",
   "execution_count": 361,
   "id": "99e41d75-ec1a-413f-a1fc-574d858c4db5",
   "metadata": {},
   "outputs": [
    {
     "data": {
      "text/plain": [
       "Text(0, 0.5, '${Ozone}_{CD}$')"
      ]
     },
     "execution_count": 361,
     "metadata": {},
     "output_type": "execute_result"
    }
   ],
   "source": [
    "%matplotlib qt\n",
    "\n",
    "fig, ax = plt.subplots(figsize = (20,5))\n",
    "\n",
    "# start on January 1, 2012\n",
    "dt_0 = datetime2dt(datetime(year = 2012, month = 1, day = 1), t0, dtN)\n",
    "\n",
    "p = df.plot('dtab', 'x', style = 'o', ms = 1, ax = ax)\n",
    "\n",
    "# astronomical years\n",
    "# for x in dt_astro_years:\n",
    "#     p.axvline(x, color = 'tab:red', linestyle = '-', linewidth = .5)\n",
    "\n",
    "# astronomical 3-months    \n",
    "# for x in dt_astro_months:\n",
    "#     p.axvline(x, color = 'tab:green', linestyle = '--', linewidth = .5)\n",
    "\n",
    "# 52-week years, starting at jan 1, 2012\n",
    "for x in np.arange(1.5*dt_trimester, 1., dt_year):\n",
    "    p.axvline(x, color = 'black', linestyle = '-', linewidth = 1.2)\n",
    "\n",
    "# 52-week years, starting at jan 1, 2012\n",
    "for x in np.arange(0, 1., dt_trimester):\n",
    "    p.axvline(x, color = 'tab:green', linestyle = '--', linewidth = 1.)\n",
    "\n",
    "p.set_xticks(np.arange(0.,1.1,.05));\n",
    "\n",
    "p.set_xlabel('$t_1$')\n",
    "p.set_ylabel('${Ozone}_{CD}$')"
   ]
  },
  {
   "cell_type": "code",
   "execution_count": 314,
   "id": "97761543-17e2-4919-a0cf-f12d1fee1684",
   "metadata": {},
   "outputs": [
    {
     "data": {
      "text/plain": [
       "1"
      ]
     },
     "execution_count": 314,
     "metadata": {},
     "output_type": "execute_result"
    }
   ],
   "source": [
    "x = .15\n",
    "interval = dt_trimester\n",
    "\n",
    "int(x//interval%3)"
   ]
  },
  {
   "cell_type": "markdown",
   "id": "9ecde704-7346-4b6d-8c48-eb22ace3b70a",
   "metadata": {},
   "source": [
    "### 52-week year feature"
   ]
  },
  {
   "cell_type": "markdown",
   "id": "6a9d9c43-0474-4f6d-a6f9-263cdf52a629",
   "metadata": {},
   "source": [
    "Let's find the position of a point within a regularised year (52 weeks)"
   ]
  },
  {
   "cell_type": "code",
   "execution_count": 233,
   "id": "9fac8b83-294a-4663-9e99-d63cbefad934",
   "metadata": {},
   "outputs": [
    {
     "data": {
      "text/plain": [
       "0.11070559610705594"
      ]
     },
     "execution_count": 233,
     "metadata": {},
     "output_type": "execute_result"
    }
   ],
   "source": [
    "dt_year"
   ]
  },
  {
   "cell_type": "code",
   "execution_count": 252,
   "id": "030266ec-60dd-48f0-8f1b-8667e3806b27",
   "metadata": {},
   "outputs": [
    {
     "data": {
      "text/plain": [
       "0.9872527472527477"
      ]
     },
     "execution_count": 252,
     "metadata": {},
     "output_type": "execute_result"
    }
   ],
   "source": [
    "0.22/dt_year-(0.22//dt_year)"
   ]
  },
  {
   "cell_type": "code",
   "execution_count": 287,
   "id": "93f8c20e-0f78-41de-b175-3d1b9011b0a7",
   "metadata": {},
   "outputs": [],
   "source": [
    "df['reg_year_dtab']=df['dtab'].apply(lambda x: interval_feature(x, dt_year))"
   ]
  },
  {
   "cell_type": "code",
   "execution_count": 291,
   "id": "ed057cdf-6187-4ed2-9ce6-e581f4953d38",
   "metadata": {},
   "outputs": [
    {
     "data": {
      "text/html": [
       "<div>\n",
       "<style scoped>\n",
       "    .dataframe tbody tr th:only-of-type {\n",
       "        vertical-align: middle;\n",
       "    }\n",
       "\n",
       "    .dataframe tbody tr th {\n",
       "        vertical-align: top;\n",
       "    }\n",
       "\n",
       "    .dataframe thead th {\n",
       "        text-align: right;\n",
       "    }\n",
       "</style>\n",
       "<table border=\"1\" class=\"dataframe\">\n",
       "  <thead>\n",
       "    <tr style=\"text-align: right;\">\n",
       "      <th></th>\n",
       "      <th>t</th>\n",
       "      <th>hour</th>\n",
       "      <th>dayofweek</th>\n",
       "      <th>quarter</th>\n",
       "      <th>month</th>\n",
       "      <th>year</th>\n",
       "      <th>dayofyear</th>\n",
       "      <th>dayofmonth</th>\n",
       "      <th>weekofyear</th>\n",
       "      <th>x</th>\n",
       "      <th>dt</th>\n",
       "      <th>dtab</th>\n",
       "      <th>reg_year_dtab</th>\n",
       "    </tr>\n",
       "  </thead>\n",
       "  <tbody>\n",
       "    <tr>\n",
       "      <th>0</th>\n",
       "      <td>2012-02-05 18:08:00</td>\n",
       "      <td>18</td>\n",
       "      <td>6</td>\n",
       "      <td>1</td>\n",
       "      <td>2</td>\n",
       "      <td>2012</td>\n",
       "      <td>36</td>\n",
       "      <td>5</td>\n",
       "      <td>5</td>\n",
       "      <td>248.0</td>\n",
       "      <td>0.000000</td>\n",
       "      <td>0.010875</td>\n",
       "      <td>0.098230</td>\n",
       "    </tr>\n",
       "    <tr>\n",
       "      <th>1</th>\n",
       "      <td>2012-02-05 19:36:00</td>\n",
       "      <td>19</td>\n",
       "      <td>6</td>\n",
       "      <td>1</td>\n",
       "      <td>2</td>\n",
       "      <td>2012</td>\n",
       "      <td>36</td>\n",
       "      <td>5</td>\n",
       "      <td>5</td>\n",
       "      <td>254.0</td>\n",
       "      <td>0.000021</td>\n",
       "      <td>0.010893</td>\n",
       "      <td>0.098397</td>\n",
       "    </tr>\n",
       "    <tr>\n",
       "      <th>2</th>\n",
       "      <td>2012-02-06 14:51:00</td>\n",
       "      <td>14</td>\n",
       "      <td>0</td>\n",
       "      <td>1</td>\n",
       "      <td>2</td>\n",
       "      <td>2012</td>\n",
       "      <td>37</td>\n",
       "      <td>6</td>\n",
       "      <td>6</td>\n",
       "      <td>238.0</td>\n",
       "      <td>0.000296</td>\n",
       "      <td>0.011137</td>\n",
       "      <td>0.100601</td>\n",
       "    </tr>\n",
       "    <tr>\n",
       "      <th>3</th>\n",
       "      <td>2012-02-06 16:35:00</td>\n",
       "      <td>16</td>\n",
       "      <td>0</td>\n",
       "      <td>1</td>\n",
       "      <td>2</td>\n",
       "      <td>2012</td>\n",
       "      <td>37</td>\n",
       "      <td>6</td>\n",
       "      <td>6</td>\n",
       "      <td>242.0</td>\n",
       "      <td>0.000321</td>\n",
       "      <td>0.011159</td>\n",
       "      <td>0.100799</td>\n",
       "    </tr>\n",
       "    <tr>\n",
       "      <th>4</th>\n",
       "      <td>2012-02-06 17:35:00</td>\n",
       "      <td>17</td>\n",
       "      <td>0</td>\n",
       "      <td>1</td>\n",
       "      <td>2</td>\n",
       "      <td>2012</td>\n",
       "      <td>37</td>\n",
       "      <td>6</td>\n",
       "      <td>6</td>\n",
       "      <td>245.0</td>\n",
       "      <td>0.000335</td>\n",
       "      <td>0.011172</td>\n",
       "      <td>0.100914</td>\n",
       "    </tr>\n",
       "    <tr>\n",
       "      <th>...</th>\n",
       "      <td>...</td>\n",
       "      <td>...</td>\n",
       "      <td>...</td>\n",
       "      <td>...</td>\n",
       "      <td>...</td>\n",
       "      <td>...</td>\n",
       "      <td>...</td>\n",
       "      <td>...</td>\n",
       "      <td>...</td>\n",
       "      <td>...</td>\n",
       "      <td>...</td>\n",
       "      <td>...</td>\n",
       "      <td>...</td>\n",
       "    </tr>\n",
       "    <tr>\n",
       "      <th>3383</th>\n",
       "      <td>2020-01-29 09:24:00</td>\n",
       "      <td>9</td>\n",
       "      <td>2</td>\n",
       "      <td>1</td>\n",
       "      <td>1</td>\n",
       "      <td>2020</td>\n",
       "      <td>29</td>\n",
       "      <td>29</td>\n",
       "      <td>5</td>\n",
       "      <td>311.0</td>\n",
       "      <td>0.999657</td>\n",
       "      <td>0.897321</td>\n",
       "      <td>0.105472</td>\n",
       "    </tr>\n",
       "    <tr>\n",
       "      <th>3384</th>\n",
       "      <td>2020-01-29 12:12:00</td>\n",
       "      <td>12</td>\n",
       "      <td>2</td>\n",
       "      <td>1</td>\n",
       "      <td>1</td>\n",
       "      <td>2020</td>\n",
       "      <td>29</td>\n",
       "      <td>29</td>\n",
       "      <td>5</td>\n",
       "      <td>295.0</td>\n",
       "      <td>0.999697</td>\n",
       "      <td>0.897357</td>\n",
       "      <td>0.105792</td>\n",
       "    </tr>\n",
       "    <tr>\n",
       "      <th>3385</th>\n",
       "      <td>2020-01-29 18:00:00</td>\n",
       "      <td>18</td>\n",
       "      <td>2</td>\n",
       "      <td>1</td>\n",
       "      <td>1</td>\n",
       "      <td>2020</td>\n",
       "      <td>29</td>\n",
       "      <td>29</td>\n",
       "      <td>5</td>\n",
       "      <td>299.0</td>\n",
       "      <td>0.999780</td>\n",
       "      <td>0.897430</td>\n",
       "      <td>0.106456</td>\n",
       "    </tr>\n",
       "    <tr>\n",
       "      <th>3386</th>\n",
       "      <td>2020-01-29 22:00:00</td>\n",
       "      <td>22</td>\n",
       "      <td>2</td>\n",
       "      <td>1</td>\n",
       "      <td>1</td>\n",
       "      <td>2020</td>\n",
       "      <td>29</td>\n",
       "      <td>29</td>\n",
       "      <td>5</td>\n",
       "      <td>281.0</td>\n",
       "      <td>0.999837</td>\n",
       "      <td>0.897481</td>\n",
       "      <td>0.106914</td>\n",
       "    </tr>\n",
       "    <tr>\n",
       "      <th>3387</th>\n",
       "      <td>2020-01-30 09:24:00</td>\n",
       "      <td>9</td>\n",
       "      <td>3</td>\n",
       "      <td>1</td>\n",
       "      <td>1</td>\n",
       "      <td>2020</td>\n",
       "      <td>30</td>\n",
       "      <td>30</td>\n",
       "      <td>5</td>\n",
       "      <td>286.0</td>\n",
       "      <td>1.000000</td>\n",
       "      <td>0.897625</td>\n",
       "      <td>0.108219</td>\n",
       "    </tr>\n",
       "  </tbody>\n",
       "</table>\n",
       "<p>3388 rows × 13 columns</p>\n",
       "</div>"
      ],
      "text/plain": [
       "                       t  hour  dayofweek  quarter  month  year  dayofyear  \\\n",
       "0    2012-02-05 18:08:00    18          6        1      2  2012         36   \n",
       "1    2012-02-05 19:36:00    19          6        1      2  2012         36   \n",
       "2    2012-02-06 14:51:00    14          0        1      2  2012         37   \n",
       "3    2012-02-06 16:35:00    16          0        1      2  2012         37   \n",
       "4    2012-02-06 17:35:00    17          0        1      2  2012         37   \n",
       "...                  ...   ...        ...      ...    ...   ...        ...   \n",
       "3383 2020-01-29 09:24:00     9          2        1      1  2020         29   \n",
       "3384 2020-01-29 12:12:00    12          2        1      1  2020         29   \n",
       "3385 2020-01-29 18:00:00    18          2        1      1  2020         29   \n",
       "3386 2020-01-29 22:00:00    22          2        1      1  2020         29   \n",
       "3387 2020-01-30 09:24:00     9          3        1      1  2020         30   \n",
       "\n",
       "      dayofmonth  weekofyear      x        dt      dtab  reg_year_dtab  \n",
       "0              5           5  248.0  0.000000  0.010875       0.098230  \n",
       "1              5           5  254.0  0.000021  0.010893       0.098397  \n",
       "2              6           6  238.0  0.000296  0.011137       0.100601  \n",
       "3              6           6  242.0  0.000321  0.011159       0.100799  \n",
       "4              6           6  245.0  0.000335  0.011172       0.100914  \n",
       "...          ...         ...    ...       ...       ...            ...  \n",
       "3383          29           5  311.0  0.999657  0.897321       0.105472  \n",
       "3384          29           5  295.0  0.999697  0.897357       0.105792  \n",
       "3385          29           5  299.0  0.999780  0.897430       0.106456  \n",
       "3386          29           5  281.0  0.999837  0.897481       0.106914  \n",
       "3387          30           5  286.0  1.000000  0.897625       0.108219  \n",
       "\n",
       "[3388 rows x 13 columns]"
      ]
     },
     "execution_count": 291,
     "metadata": {},
     "output_type": "execute_result"
    }
   ],
   "source": [
    "df"
   ]
  },
  {
   "cell_type": "markdown",
   "id": "5f678ae0-9e45-498b-8b42-043185933582",
   "metadata": {},
   "source": [
    "Visualise yearly features. We see that really we need more features here. Let's try "
   ]
  },
  {
   "cell_type": "code",
   "execution_count": 356,
   "id": "42d6e081-3ce6-4cab-a083-e970f1eadbaf",
   "metadata": {},
   "outputs": [
    {
     "data": {
      "text/plain": [
       "Text(0, 0.5, '${Ozone}_{CD}$')"
      ]
     },
     "execution_count": 356,
     "metadata": {},
     "output_type": "execute_result"
    }
   ],
   "source": [
    "%matplotlib qt\n",
    "p = df.plot('reg_year_dtab','x', style = 'o', ms = 1)\n",
    "p.set_xlabel('$t_2$')\n",
    "p.set_ylabel('${Ozone}_{CD}$')"
   ]
  },
  {
   "cell_type": "code",
   "execution_count": 260,
   "id": "3348dbb9-a67e-4047-9005-c5dbe5e17ceb",
   "metadata": {},
   "outputs": [
    {
     "data": {
      "text/plain": [
       "<AxesSubplot: xlabel='dtab'>"
      ]
     },
     "execution_count": 260,
     "metadata": {},
     "output_type": "execute_result"
    },
    {
     "data": {
      "image/png": "[encoded data removed]",
      "text/plain": [
       "<Figure size 640x480 with 1 Axes>"
      ]
     },
     "metadata": {},
     "output_type": "display_data"
    }
   ],
   "source": [
    "%matplotlib inline\n",
    "df.plot('dtab','x', style = 'o', ms = 1)"
   ]
  },
  {
   "cell_type": "code",
   "execution_count": 321,
   "id": "08c61589-06f5-406e-81ed-2d8a92f81435",
   "metadata": {},
   "outputs": [],
   "source": [
    "df.to_csv('Data/Ozone_time_series.csv')"
   ]
  },
  {
   "cell_type": "markdown",
   "id": "f0165478-31f5-4008-9ea1-89fd8a7d6d12",
   "metadata": {},
   "source": [
    "### Trimester feature\n"
   ]
  },
  {
   "cell_type": "code",
   "execution_count": 292,
   "id": "382a0298-8b7a-4a6e-86f3-738a79fc2f54",
   "metadata": {},
   "outputs": [],
   "source": [
    "df['trimester_dtab']=df['dtab'].apply(lambda x: interval_feature(x, dt_trimester))"
   ]
  },
  {
   "cell_type": "markdown",
   "id": "514da110-e292-4a63-8556-c6c36322092e",
   "metadata": {},
   "source": [
    "Let's plot the trimester feature. It shows a multimodal distribution. \n",
    "\n",
    "Clearly, we need to consider something like a mixture over the 3 trimesters. "
   ]
  },
  {
   "cell_type": "code",
   "execution_count": 294,
   "id": "5e4f7978-385a-49e5-b6d5-209fc083898c",
   "metadata": {},
   "outputs": [
    {
     "data": {
      "text/plain": [
       "<AxesSubplot: xlabel='trimester_dtab'>"
      ]
     },
     "execution_count": 294,
     "metadata": {},
     "output_type": "execute_result"
    },
    {
     "data": {
      "image/png": "[encoded data removed]",
      "text/plain": [
       "<Figure size 640x480 with 1 Axes>"
      ]
     },
     "metadata": {},
     "output_type": "display_data"
    }
   ],
   "source": [
    "%matplotlib inline\n",
    "df.plot('trimester_dtab','x', style = 'o', ms = 1)"
   ]
  },
  {
   "cell_type": "markdown",
   "id": "f7ce14e5-5bbe-4062-9282-d1a089501485",
   "metadata": {},
   "source": [
    "Let's assign the trimester index and plot 1st, 2nd and 3rd trimesters"
   ]
  },
  {
   "cell_type": "code",
   "execution_count": 318,
   "id": "8016e75f-8b2e-487a-9280-8d5edcefb587",
   "metadata": {},
   "outputs": [],
   "source": [
    "df['trimester_ind_dtab']=df['dtab'].apply(lambda x: int(x//dt_trimester%3))"
   ]
  },
  {
   "cell_type": "code",
   "execution_count": 330,
   "id": "e039c532-9dc0-46cd-beff-8798edec6e71",
   "metadata": {},
   "outputs": [
    {
     "data": {
      "text/plain": [
       "<matplotlib.legend.Legend at 0x7fef21135040>"
      ]
     },
     "execution_count": 330,
     "metadata": {},
     "output_type": "execute_result"
    },
    {
     "data": {
      "image/png": "[encoded data removed]",
      "text/plain": [
       "<Figure size 640x480 with 1 Axes>"
      ]
     },
     "metadata": {},
     "output_type": "display_data"
    }
   ],
   "source": [
    "%matplotlib inline\n",
    "p = df.query('trimester_ind_dtab==0').\\\n",
    "plot('trimester_dtab','x', style = 'o', color = 'tab:blue', ms = 1)\n",
    "\n",
    "df.query('trimester_ind_dtab==2').\\\n",
    "plot('trimester_dtab','x', style = 'o', color = 'tab:red', ms = 1, ax = p)\n",
    "\n",
    "p.legend(['0 quarter', '2 quarter'])"
   ]
  },
  {
   "cell_type": "code",
   "execution_count": 331,
   "id": "d6293255-0dbc-44e4-8f5f-9dda9b08abd4",
   "metadata": {},
   "outputs": [
    {
     "data": {
      "text/plain": [
       "0.03690186536901865"
      ]
     },
     "execution_count": 331,
     "metadata": {},
     "output_type": "execute_result"
    }
   ],
   "source": [
    "dt_trimester"
   ]
  },
  {
   "cell_type": "markdown",
   "id": "7c442304-04e8-41be-b196-cae768d57794",
   "metadata": {},
   "source": [
    "# Convert from [0,1] to date-time"
   ]
  },
  {
   "cell_type": "code",
   "execution_count": null,
   "id": "e603ace7-53ce-41b6-8f3c-2f85adc776cd",
   "metadata": {},
   "outputs": [],
   "source": [
    "# to get back date from a random iota in [0,1]\n",
    "iota = np.random.uniform()\n",
    "t_iota = t0+timedelta(minutes = iota*dtN)\n",
    "t_iota, roundTime(t_iota)"
   ]
  },
  {
   "cell_type": "markdown",
   "id": "f0594741-1784-4c5f-bfa4-f13da73d57d0",
   "metadata": {},
   "source": [
    "# Querry points\n",
    "\n",
    "Our querry points are times of zenith measurements. Let's place them on our time scale"
   ]
  },
  {
   "cell_type": "markdown",
   "id": "50adb9f4-4288-4b1b-9091-4c9423d1df47",
   "metadata": {},
   "source": [
    "## uniform\n",
    "For testing, let's also place a uniform mesh of points in terms dtab and reg_year_dtab"
   ]
  },
  {
   "cell_type": "code",
   "execution_count": null,
   "id": "a650bcc2-5238-48af-91d8-6d35968182e9",
   "metadata": {},
   "outputs": [],
   "source": []
  },
  {
   "cell_type": "code",
   "execution_count": null,
   "id": "064b8646-bfd2-47cc-88de-3e4b1851fd60",
   "metadata": {},
   "outputs": [],
   "source": []
  },
  {
   "cell_type": "code",
   "execution_count": null,
   "id": "35b9dba7-0f78-40ee-be0c-7c9d7dc44ce6",
   "metadata": {},
   "outputs": [],
   "source": []
  },
  {
   "cell_type": "markdown",
   "id": "5db056a0-88d5-461d-bc2b-b3edc5402365",
   "metadata": {},
   "source": [
    "## zenith"
   ]
  },
  {
   "cell_type": "code",
   "execution_count": 15,
   "id": "5b30e7d3-1f6b-4d5a-8517-e7f63c75b111",
   "metadata": {},
   "outputs": [],
   "source": [
    "# get zenith times within direct time frame\n",
    "ind_zenith= ((df_zenith.dt>df['t'].iloc[0]) & (df_zenith.dt<df['t'].iloc[-1]))"
   ]
  },
  {
   "cell_type": "code",
   "execution_count": 16,
   "id": "93d1e5e0-0f2d-480c-a26d-7179c5431dd9",
   "metadata": {},
   "outputs": [
    {
     "data": {
      "text/html": [
       "<div>\n",
       "<style scoped>\n",
       "    .dataframe tbody tr th:only-of-type {\n",
       "        vertical-align: middle;\n",
       "    }\n",
       "\n",
       "    .dataframe tbody tr th {\n",
       "        vertical-align: top;\n",
       "    }\n",
       "\n",
       "    .dataframe thead th {\n",
       "        text-align: right;\n",
       "    }\n",
       "</style>\n",
       "<table border=\"1\" class=\"dataframe\">\n",
       "  <thead>\n",
       "    <tr style=\"text-align: right;\">\n",
       "      <th></th>\n",
       "      <th>t</th>\n",
       "      <th>dt</th>\n",
       "    </tr>\n",
       "  </thead>\n",
       "  <tbody>\n",
       "    <tr>\n",
       "      <th>0</th>\n",
       "      <td>2012-02-05 19:40:00</td>\n",
       "      <td>0.000022</td>\n",
       "    </tr>\n",
       "    <tr>\n",
       "      <th>1</th>\n",
       "      <td>2012-02-06 08:36:00</td>\n",
       "      <td>0.000207</td>\n",
       "    </tr>\n",
       "    <tr>\n",
       "      <th>2</th>\n",
       "      <td>2012-02-06 09:59:00</td>\n",
       "      <td>0.000227</td>\n",
       "    </tr>\n",
       "    <tr>\n",
       "      <th>3</th>\n",
       "      <td>2012-02-06 13:00:30</td>\n",
       "      <td>0.000270</td>\n",
       "    </tr>\n",
       "    <tr>\n",
       "      <th>4</th>\n",
       "      <td>2012-02-06 14:55:30</td>\n",
       "      <td>0.000297</td>\n",
       "    </tr>\n",
       "    <tr>\n",
       "      <th>...</th>\n",
       "      <td>...</td>\n",
       "      <td>...</td>\n",
       "    </tr>\n",
       "    <tr>\n",
       "      <th>66455</th>\n",
       "      <td>2020-01-30 09:00:00</td>\n",
       "      <td>0.999994</td>\n",
       "    </tr>\n",
       "    <tr>\n",
       "      <th>66456</th>\n",
       "      <td>2020-01-30 09:05:00</td>\n",
       "      <td>0.999995</td>\n",
       "    </tr>\n",
       "    <tr>\n",
       "      <th>66457</th>\n",
       "      <td>2020-01-30 09:10:00</td>\n",
       "      <td>0.999997</td>\n",
       "    </tr>\n",
       "    <tr>\n",
       "      <th>66458</th>\n",
       "      <td>2020-01-30 09:15:00</td>\n",
       "      <td>0.999998</td>\n",
       "    </tr>\n",
       "    <tr>\n",
       "      <th>66459</th>\n",
       "      <td>2020-01-30 09:20:00</td>\n",
       "      <td>0.999999</td>\n",
       "    </tr>\n",
       "  </tbody>\n",
       "</table>\n",
       "<p>66460 rows × 2 columns</p>\n",
       "</div>"
      ],
      "text/plain": [
       "                        t        dt\n",
       "0     2012-02-05 19:40:00  0.000022\n",
       "1     2012-02-06 08:36:00  0.000207\n",
       "2     2012-02-06 09:59:00  0.000227\n",
       "3     2012-02-06 13:00:30  0.000270\n",
       "4     2012-02-06 14:55:30  0.000297\n",
       "...                   ...       ...\n",
       "66455 2020-01-30 09:00:00  0.999994\n",
       "66456 2020-01-30 09:05:00  0.999995\n",
       "66457 2020-01-30 09:10:00  0.999997\n",
       "66458 2020-01-30 09:15:00  0.999998\n",
       "66459 2020-01-30 09:20:00  0.999999\n",
       "\n",
       "[66460 rows x 2 columns]"
      ]
     },
     "execution_count": 16,
     "metadata": {},
     "output_type": "execute_result"
    }
   ],
   "source": [
    "date_zen = df_zenith.dt[ind_zenith]\\\n",
    ".reset_index()\\\n",
    ".drop(columns = 'index')\\\n",
    ".rename(columns = {'dt':'t'})\n",
    "date_zen['dt']=date_zen['t'].apply(lambda x: (x.to_pydatetime()-t0).total_seconds()/60./dtN)\n",
    "date_zen"
   ]
  },
  {
   "cell_type": "code",
   "execution_count": null,
   "id": "dcf6c06b-723b-4260-a214-999ba0bea5eb",
   "metadata": {},
   "outputs": [],
   "source": []
  },
  {
   "cell_type": "markdown",
   "id": "f7648e27-cd31-4a69-868f-842dc1cd0b63",
   "metadata": {},
   "source": [
    "Quick check with conversion back to date:"
   ]
  },
  {
   "cell_type": "code",
   "execution_count": 17,
   "id": "855864a1-3676-417d-83a0-65397bc84312",
   "metadata": {},
   "outputs": [
    {
     "ename": "NameError",
     "evalue": "name 'tq' is not defined",
     "output_type": "error",
     "traceback": [
      "\u001b[0;31m---------------------------------------------------------------------------\u001b[0m",
      "\u001b[0;31mNameError\u001b[0m                                 Traceback (most recent call last)",
      "Cell \u001b[0;32mIn [17], line 1\u001b[0m\n\u001b[0;32m----> 1\u001b[0m roundTime(t0\u001b[38;5;241m+\u001b[39mtimedelta(minutes \u001b[38;5;241m=\u001b[39m \u001b[43mtq\u001b[49m[\u001b[38;5;241m2\u001b[39m]\u001b[38;5;241m*\u001b[39mdtN))\n",
      "\u001b[0;31mNameError\u001b[0m: name 'tq' is not defined"
     ]
    }
   ],
   "source": [
    "roundTime(t0+timedelta(minutes = tq[2]*dtN))"
   ]
  },
  {
   "cell_type": "code",
   "execution_count": 18,
   "id": "52390b3d-62d6-4c97-b790-81e80bb44f79",
   "metadata": {},
   "outputs": [
    {
     "data": {
      "text/plain": [
       "(66460,)"
      ]
     },
     "execution_count": 18,
     "metadata": {},
     "output_type": "execute_result"
    }
   ],
   "source": [
    "tq = date_zen['dt'].values\n",
    "tq.shape"
   ]
  },
  {
   "cell_type": "code",
   "execution_count": 20,
   "id": "f53c9f26-f855-40e9-b65d-8d19ac8e6e34",
   "metadata": {},
   "outputs": [
    {
     "data": {
      "text/plain": [
       "[<matplotlib.lines.Line2D at 0x7fc344b2c1f0>]"
      ]
     },
     "execution_count": 20,
     "metadata": {},
     "output_type": "execute_result"
    }
   ],
   "source": [
    "%matplotlib qt\n",
    "plt.plot(df.dt, df.x, '.')"
   ]
  },
  {
   "cell_type": "markdown",
   "id": "02eb5119-37df-41ae-adf7-e1f0bf767f9d",
   "metadata": {},
   "source": [
    "To appreciate the amounts of data, let's plot known measurements and querry points on a small interval within the timeframe"
   ]
  },
  {
   "cell_type": "code",
   "execution_count": 116,
   "id": "1445a6aa-9556-4966-83b7-4567d2814ad6",
   "metadata": {},
   "outputs": [
    {
     "data": {
      "text/plain": [
       "(0.85, 0.89)"
      ]
     },
     "execution_count": 116,
     "metadata": {},
     "output_type": "execute_result"
    },
    {
     "data": {
      "image/png": "[encoded data removed]",
      "text/plain": [
       "<Figure size 640x480 with 1 Axes>"
      ]
     },
     "metadata": {},
     "output_type": "display_data"
    }
   ],
   "source": [
    "%matplotlib inline\n",
    "plt.vlines(tq[(tq>.85) & (tq<.88)], 150., 350., colors = 'r', linestyles = ':');\n",
    "# plt.scatter(tq, 150.*np.ones(tq.shape), .5, color = 'r')\n",
    "plt.plot(df.dt, df.x, '.')\n",
    "plt.xlim([.85, .89])"
   ]
  }
 ],
 "metadata": {
  "kernelspec": {
   "display_name": "Python 3 (ipykernel)",
   "language": "python",
   "name": "python3"
  },
  "language_info": {
   "codemirror_mode": {
    "name": "ipython",
    "version": 3
   },
   "file_extension": ".py",
   "mimetype": "text/x-python",
   "name": "python",
   "nbconvert_exporter": "python",
   "pygments_lexer": "ipython3",
   "version": "3.8.13"
  }
 },
 "nbformat": 4,
 "nbformat_minor": 5
}
